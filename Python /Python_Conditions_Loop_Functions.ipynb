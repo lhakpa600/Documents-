{
 "cells": [
  {
   "cell_type": "markdown",
   "id": "3655d392",
   "metadata": {},
   "source": [
    "## CONDITIONS "
   ]
  },
  {
   "cell_type": "code",
   "execution_count": 7,
   "id": "12ed12b1",
   "metadata": {},
   "outputs": [
    {
     "name": "stdout",
     "output_type": "stream",
     "text": [
      "No need to take umbrella\n"
     ]
    }
   ],
   "source": [
    "rain=False\n",
    "\n",
    "if rain==True:\n",
    "    print('Take Umbrella')\n",
    "else :\n",
    "    print('No need to take umbrella')"
   ]
  },
  {
   "cell_type": "code",
   "execution_count": 14,
   "id": "bd254a65",
   "metadata": {},
   "outputs": [
    {
     "name": "stdout",
     "output_type": "stream",
     "text": [
      " you have scored B\n"
     ]
    }
   ],
   "source": [
    "Marks=70\n",
    "if Marks>90:\n",
    "    print('you have scored A')\n",
    "else: \n",
    "    print(' you have scored B')"
   ]
  },
  {
   "cell_type": "code",
   "execution_count": 9,
   "id": "2a8639cf",
   "metadata": {},
   "outputs": [
    {
     "name": "stdout",
     "output_type": "stream",
     "text": [
      "Enter your marks of the subject80\n"
     ]
    },
    {
     "ename": "TypeError",
     "evalue": "'>' not supported between instances of 'str' and 'int'",
     "output_type": "error",
     "traceback": [
      "\u001b[0;31m---------------------------------------------------------------------------\u001b[0m",
      "\u001b[0;31mTypeError\u001b[0m                                 Traceback (most recent call last)",
      "Cell \u001b[0;32mIn[9], line 3\u001b[0m\n\u001b[1;32m      1\u001b[0m Marks\u001b[38;5;241m=\u001b[39m\u001b[38;5;28minput\u001b[39m (\u001b[38;5;124m'\u001b[39m\u001b[38;5;124mEnter your marks of the subject\u001b[39m\u001b[38;5;124m'\u001b[39m)\n\u001b[0;32m----> 3\u001b[0m \u001b[38;5;28;01mif\u001b[39;00m Marks\u001b[38;5;241m>\u001b[39m\u001b[38;5;241m90\u001b[39m:\n\u001b[1;32m      4\u001b[0m     \u001b[38;5;28mprint\u001b[39m(\u001b[38;5;124m'\u001b[39m\u001b[38;5;124mYou have scored A\u001b[39m\u001b[38;5;124m'\u001b[39m)\n\u001b[1;32m      5\u001b[0m \u001b[38;5;28;01melif\u001b[39;00m Marks\u001b[38;5;241m>\u001b[39m\u001b[38;5;241m80\u001b[39m:\n",
      "\u001b[0;31mTypeError\u001b[0m: '>' not supported between instances of 'str' and 'int'"
     ]
    }
   ],
   "source": [
    "Marks=input ('Enter your marks of the subject')\n",
    "\n",
    "if Marks>90:\n",
    "    print('You have scored A')\n",
    "elif Marks>80:\n",
    "    print ('You have scored B')\n",
    "elif Marks>70:\n",
    "    print ('You have scored C')\n",
    "elif Marks>60:\n",
    "    print('You have score D')\n",
    "else: \n",
    "    print ('You have Failed')"
   ]
  },
  {
   "cell_type": "code",
   "execution_count": 10,
   "id": "70ee26ae",
   "metadata": {},
   "outputs": [
    {
     "data": {
      "text/plain": [
       "str"
      ]
     },
     "execution_count": 10,
     "metadata": {},
     "output_type": "execute_result"
    }
   ],
   "source": [
    "type(Marks)  yo chai int ma halma parcha"
   ]
  },
  {
   "cell_type": "code",
   "execution_count": 2,
   "id": "080e4b00",
   "metadata": {},
   "outputs": [
    {
     "name": "stdout",
     "output_type": "stream",
     "text": [
      "Enter your marks of the subject90\n",
      "You have scored B\n"
     ]
    }
   ],
   "source": [
    "Marks=int(input ('Enter your marks of the subject'))\n",
    "\n",
    "if Marks>90:\n",
    "    print('You have scored A')\n",
    "elif Marks>80:\n",
    "    print ('You have scored B')\n",
    "elif Marks>70:\n",
    "    print ('You have scored C')\n",
    "elif Marks>60:\n",
    "    print('You have score D')\n",
    "else: \n",
    "    print ('You have Failed')"
   ]
  },
  {
   "cell_type": "code",
   "execution_count": 3,
   "id": "6e24dcbc",
   "metadata": {},
   "outputs": [
    {
     "data": {
      "text/plain": [
       "int"
      ]
     },
     "execution_count": 3,
     "metadata": {},
     "output_type": "execute_result"
    }
   ],
   "source": [
    "type(Marks)"
   ]
  },
  {
   "cell_type": "code",
   "execution_count": 4,
   "id": "a70b6ea6",
   "metadata": {},
   "outputs": [
    {
     "name": "stdout",
     "output_type": "stream",
     "text": [
      "Enter your choice :\n",
      "Add or + \n",
      "Subtract or - \n",
      "Multiply or * \n",
      "Divide or /\n",
      "\n",
      "divide\n"
     ]
    }
   ],
   "source": [
    "a_user=input('Enter your choice :\\nAdd or + \\nSubtract or - \\nMultiply or * \\nDivide or /\\n\\n')"
   ]
  },
  {
   "cell_type": "code",
   "execution_count": null,
   "id": "34ab3dfd",
   "metadata": {},
   "outputs": [],
   "source": [
    "a=int(input('Input your first Number: '))"
   ]
  },
  {
   "cell_type": "code",
   "execution_count": 6,
   "id": "a90a7992",
   "metadata": {
    "scrolled": true
   },
   "outputs": [
    {
     "name": "stdout",
     "output_type": "stream",
     "text": [
      "Input your second number: 45\n"
     ]
    }
   ],
   "source": [
    "b=int(input('Input your second number: '))"
   ]
  },
  {
   "cell_type": "code",
   "execution_count": null,
   "id": "9411a5bf",
   "metadata": {},
   "outputs": [],
   "source": [
    "a_user=input('Enter your choice :\\nAdd or + \\nSubtract or - \\nMultiply or * \\nDivide or /\\n\\n')\n",
    "a=int(input('Input your first Number: '))\n",
    "b=int(input('Input your second Number: '))\n",
    "if a_user=='Divide' or a_user=='/' or a_user=='D':\n",
    "    result=a/b\n",
    "    print(result)\n",
    "elif a_user=='add' or a_user=='+'or a_user=='a':\n",
    "    result=a+b\n",
    "    print(result)\n",
    "elif a_user=='subtract' or a_user=='-'or a_user=='s':\n",
    "    result=a-b\n",
    "    print(result)\n",
    "elif a_user=='multiply' or a_user=='*'or a_user=='m':\n",
    "    result=a*b\n",
    "    print(result)\n",
    "else:\n",
    "    print('Wrong Operation, Please try again')"
   ]
  },
  {
   "cell_type": "code",
   "execution_count": null,
   "id": "e6503fbf",
   "metadata": {},
   "outputs": [],
   "source": []
  },
  {
   "cell_type": "code",
   "execution_count": null,
   "id": "2585e60c",
   "metadata": {},
   "outputs": [],
   "source": []
  }
 ],
 "metadata": {
  "kernelspec": {
   "display_name": "Python 3 (ipykernel)",
   "language": "python",
   "name": "python3"
  },
  "language_info": {
   "codemirror_mode": {
    "name": "ipython",
    "version": 3
   },
   "file_extension": ".py",
   "mimetype": "text/x-python",
   "name": "python",
   "nbconvert_exporter": "python",
   "pygments_lexer": "ipython3",
   "version": "3.12.4"
  }
 },
 "nbformat": 4,
 "nbformat_minor": 5
}
