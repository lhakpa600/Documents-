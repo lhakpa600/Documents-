{
 "cells": [
  {
   "cell_type": "markdown",
   "id": "d34c072d",
   "metadata": {},
   "source": [
    "## TUPLE"
   ]
  },
  {
   "cell_type": "code",
   "execution_count": 7,
   "id": "2e837254",
   "metadata": {},
   "outputs": [],
   "source": [
    "# TUPLE IS IMMUTABLE, CANNOT CHANGE DATA"
   ]
  },
  {
   "cell_type": "code",
   "execution_count": 8,
   "id": "d72bbbf4",
   "metadata": {},
   "outputs": [],
   "source": [
    "tup=('Kathmandu','Pokhara','Biratnagar','Dharan','Kathmandu','Janakpur')"
   ]
  },
  {
   "cell_type": "code",
   "execution_count": 9,
   "id": "33a7d590",
   "metadata": {},
   "outputs": [
    {
     "data": {
      "text/plain": [
       "tuple"
      ]
     },
     "execution_count": 9,
     "metadata": {},
     "output_type": "execute_result"
    }
   ],
   "source": [
    "type(tup)"
   ]
  },
  {
   "cell_type": "code",
   "execution_count": 10,
   "id": "0f1fa472",
   "metadata": {},
   "outputs": [],
   "source": [
    "##Tuple is indexed"
   ]
  },
  {
   "cell_type": "code",
   "execution_count": 11,
   "id": "114a1655",
   "metadata": {},
   "outputs": [
    {
     "data": {
      "text/plain": [
       "'Pokhara'"
      ]
     },
     "execution_count": 11,
     "metadata": {},
     "output_type": "execute_result"
    }
   ],
   "source": [
    "tup[1]"
   ]
  },
  {
   "cell_type": "code",
   "execution_count": 12,
   "id": "df65db3b",
   "metadata": {},
   "outputs": [
    {
     "data": {
      "text/plain": [
       "('Kathmandu', 'Janakpur')"
      ]
     },
     "execution_count": 12,
     "metadata": {},
     "output_type": "execute_result"
    }
   ],
   "source": [
    "tup[-2:]"
   ]
  },
  {
   "cell_type": "code",
   "execution_count": 13,
   "id": "668af010",
   "metadata": {},
   "outputs": [],
   "source": [
    "tup_t=tuple(('Kathmandu','Pokhara','Biratnagar','Dharan','Kathmandu','Janakpur'))"
   ]
  },
  {
   "cell_type": "code",
   "execution_count": 14,
   "id": "965e76cd",
   "metadata": {},
   "outputs": [
    {
     "data": {
      "text/plain": [
       "tuple"
      ]
     },
     "execution_count": 14,
     "metadata": {},
     "output_type": "execute_result"
    }
   ],
   "source": [
    "type(tup_t)"
   ]
  },
  {
   "cell_type": "code",
   "execution_count": 15,
   "id": "e1d0caa4",
   "metadata": {},
   "outputs": [
    {
     "name": "stdout",
     "output_type": "stream",
     "text": [
      "('Kathmandu', 'Pokhara', 'Biratnagar', 'Dharan', 'Kathmandu', 'Janakpur')\n"
     ]
    }
   ],
   "source": [
    "print(tup)"
   ]
  },
  {
   "cell_type": "code",
   "execution_count": 16,
   "id": "05045e09",
   "metadata": {},
   "outputs": [
    {
     "data": {
      "text/plain": [
       "('Biratnagar', 'Dharan')"
      ]
     },
     "execution_count": 16,
     "metadata": {},
     "output_type": "execute_result"
    }
   ],
   "source": [
    "tup[2:-2]"
   ]
  },
  {
   "cell_type": "code",
   "execution_count": 17,
   "id": "a76a431a",
   "metadata": {},
   "outputs": [
    {
     "name": "stdout",
     "output_type": "stream",
     "text": [
      "Kathmandu\n",
      "Pokhara\n",
      "Biratnagar\n",
      "Dharan\n",
      "Kathmandu\n",
      "Janakpur\n"
     ]
    }
   ],
   "source": [
    "for i in tup:\n",
    "    print(i)"
   ]
  },
  {
   "cell_type": "markdown",
   "id": "8834bd26",
   "metadata": {},
   "source": [
    "#### Tuple is immutable "
   ]
  },
  {
   "cell_type": "code",
   "execution_count": 18,
   "id": "e3b0ba6e",
   "metadata": {},
   "outputs": [
    {
     "ename": "TypeError",
     "evalue": "'tuple' object does not support item assignment",
     "output_type": "error",
     "traceback": [
      "\u001b[0;31m---------------------------------------------------------------------------\u001b[0m",
      "\u001b[0;31mTypeError\u001b[0m                                 Traceback (most recent call last)",
      "Cell \u001b[0;32mIn[18], line 1\u001b[0m\n\u001b[0;32m----> 1\u001b[0m tup[\u001b[38;5;241m1\u001b[39m]\u001b[38;5;241m=\u001b[39m\u001b[38;5;124m'\u001b[39m\u001b[38;5;124mDhangadi\u001b[39m\u001b[38;5;124m'\u001b[39m\n",
      "\u001b[0;31mTypeError\u001b[0m: 'tuple' object does not support item assignment"
     ]
    }
   ],
   "source": [
    "tup[1]='Dhangadi'"
   ]
  },
  {
   "cell_type": "code",
   "execution_count": 19,
   "id": "a078b48d",
   "metadata": {},
   "outputs": [],
   "source": [
    "li=list(tup)"
   ]
  },
  {
   "cell_type": "code",
   "execution_count": 20,
   "id": "5a96d53c",
   "metadata": {},
   "outputs": [
    {
     "data": {
      "text/plain": [
       "['Kathmandu', 'Pokhara', 'Biratnagar', 'Dharan', 'Kathmandu', 'Janakpur']"
      ]
     },
     "execution_count": 20,
     "metadata": {},
     "output_type": "execute_result"
    }
   ],
   "source": [
    "li"
   ]
  },
  {
   "cell_type": "code",
   "execution_count": 21,
   "id": "16b6c805",
   "metadata": {},
   "outputs": [
    {
     "data": {
      "text/plain": [
       "list"
      ]
     },
     "execution_count": 21,
     "metadata": {},
     "output_type": "execute_result"
    }
   ],
   "source": [
    "type(li)"
   ]
  },
  {
   "cell_type": "code",
   "execution_count": 22,
   "id": "caa7e22b",
   "metadata": {},
   "outputs": [],
   "source": [
    "li.append('dhangadi')"
   ]
  },
  {
   "cell_type": "code",
   "execution_count": 23,
   "id": "24e5183e",
   "metadata": {},
   "outputs": [],
   "source": [
    "tup=tuple(li)"
   ]
  },
  {
   "cell_type": "code",
   "execution_count": 24,
   "id": "33c2b2c3",
   "metadata": {},
   "outputs": [
    {
     "data": {
      "text/plain": [
       "('Kathmandu',\n",
       " 'Pokhara',\n",
       " 'Biratnagar',\n",
       " 'Dharan',\n",
       " 'Kathmandu',\n",
       " 'Janakpur',\n",
       " 'dhangadi')"
      ]
     },
     "execution_count": 24,
     "metadata": {},
     "output_type": "execute_result"
    }
   ],
   "source": [
    "tup"
   ]
  },
  {
   "cell_type": "code",
   "execution_count": 25,
   "id": "adfa3b4c",
   "metadata": {},
   "outputs": [],
   "source": [
    "city=('Chitwan','Hetauda')"
   ]
  },
  {
   "cell_type": "code",
   "execution_count": 26,
   "id": "4acb0069",
   "metadata": {},
   "outputs": [
    {
     "name": "stdout",
     "output_type": "stream",
     "text": [
      "('Kathmandu', 'Pokhara', 'Biratnagar', 'Dharan', 'Kathmandu', 'Janakpur', 'dhangadi', 'Chitwan', 'Hetauda')\n"
     ]
    }
   ],
   "source": [
    "print(tup+city)"
   ]
  },
  {
   "cell_type": "code",
   "execution_count": 27,
   "id": "e7e489e5",
   "metadata": {},
   "outputs": [],
   "source": [
    "city=city+tup"
   ]
  },
  {
   "cell_type": "code",
   "execution_count": 28,
   "id": "7d5c672a",
   "metadata": {},
   "outputs": [
    {
     "data": {
      "text/plain": [
       "('Chitwan',\n",
       " 'Hetauda',\n",
       " 'Kathmandu',\n",
       " 'Pokhara',\n",
       " 'Biratnagar',\n",
       " 'Dharan',\n",
       " 'Kathmandu',\n",
       " 'Janakpur',\n",
       " 'dhangadi')"
      ]
     },
     "execution_count": 28,
     "metadata": {},
     "output_type": "execute_result"
    }
   ],
   "source": [
    "city"
   ]
  },
  {
   "cell_type": "code",
   "execution_count": 29,
   "id": "cc24e0c8",
   "metadata": {},
   "outputs": [],
   "source": [
    "##Unpack value"
   ]
  },
  {
   "cell_type": "code",
   "execution_count": 30,
   "id": "1b6696ce",
   "metadata": {},
   "outputs": [],
   "source": [
    "(citya,cityb,cityc)=('kathmandu','pokhara','biratnagar')"
   ]
  },
  {
   "cell_type": "code",
   "execution_count": 31,
   "id": "9064055a",
   "metadata": {},
   "outputs": [
    {
     "data": {
      "text/plain": [
       "'kathmandu'"
      ]
     },
     "execution_count": 31,
     "metadata": {},
     "output_type": "execute_result"
    }
   ],
   "source": [
    "citya"
   ]
  },
  {
   "cell_type": "code",
   "execution_count": 32,
   "id": "266c007b",
   "metadata": {},
   "outputs": [
    {
     "data": {
      "text/plain": [
       "'pokhara'"
      ]
     },
     "execution_count": 32,
     "metadata": {},
     "output_type": "execute_result"
    }
   ],
   "source": [
    "cityb"
   ]
  },
  {
   "cell_type": "code",
   "execution_count": 33,
   "id": "597c19b4",
   "metadata": {},
   "outputs": [
    {
     "data": {
      "text/plain": [
       "'biratnagar'"
      ]
     },
     "execution_count": 33,
     "metadata": {},
     "output_type": "execute_result"
    }
   ],
   "source": [
    "cityc"
   ]
  },
  {
   "cell_type": "code",
   "execution_count": 34,
   "id": "3da46e51",
   "metadata": {},
   "outputs": [],
   "source": [
    "##LOOPING IN TUPLE"
   ]
  },
  {
   "cell_type": "code",
   "execution_count": 35,
   "id": "5a6099cd",
   "metadata": {},
   "outputs": [
    {
     "name": "stdout",
     "output_type": "stream",
     "text": [
      "Kathmandu\n",
      "Pokhara\n",
      "Biratnagar\n",
      "Dharan\n",
      "Kathmandu\n",
      "Janakpur\n",
      "dhangadi\n"
     ]
    }
   ],
   "source": [
    "for i in tup:\n",
    "    print(i)        #elements use"
   ]
  },
  {
   "cell_type": "code",
   "execution_count": 36,
   "id": "dd3be285",
   "metadata": {},
   "outputs": [
    {
     "name": "stdout",
     "output_type": "stream",
     "text": [
      "Kathmandu\n",
      "Pokhara\n",
      "Biratnagar\n",
      "Dharan\n",
      "Kathmandu\n",
      "Janakpur\n",
      "dhangadi\n"
     ]
    }
   ],
   "source": [
    "for i in range(len(tup)):\n",
    "    print(tup[i])               #index use"
   ]
  },
  {
   "cell_type": "code",
   "execution_count": 37,
   "id": "5894f8f3",
   "metadata": {},
   "outputs": [
    {
     "name": "stdout",
     "output_type": "stream",
     "text": [
      "0\n",
      "1\n",
      "2\n",
      "3\n",
      "4\n",
      "5\n",
      "6\n"
     ]
    }
   ],
   "source": [
    "for i in range(len(tup)):\n",
    "    print(i)"
   ]
  },
  {
   "cell_type": "code",
   "execution_count": 38,
   "id": "c5f38d33",
   "metadata": {},
   "outputs": [
    {
     "name": "stdout",
     "output_type": "stream",
     "text": [
      "Kathmandu\n",
      "Pokhara\n",
      "Biratnagar\n",
      "Dharan\n",
      "Kathmandu\n"
     ]
    }
   ],
   "source": [
    "for i in range (5):\n",
    "    print(tup[i])"
   ]
  },
  {
   "cell_type": "code",
   "execution_count": 40,
   "id": "ebcfee07",
   "metadata": {},
   "outputs": [
    {
     "name": "stdout",
     "output_type": "stream",
     "text": [
      "['Kathmandu']\n",
      "['Kathmandu', 'Pokhara']\n",
      "['Kathmandu', 'Pokhara', 'Biratnagar']\n",
      "['Kathmandu', 'Pokhara', 'Biratnagar', 'Dharan']\n",
      "['Kathmandu', 'Pokhara', 'Biratnagar', 'Dharan', 'Kathmandu']\n",
      "['Kathmandu', 'Pokhara', 'Biratnagar', 'Dharan', 'Kathmandu', 'Janakpur']\n",
      "['Kathmandu', 'Pokhara', 'Biratnagar', 'Dharan', 'Kathmandu', 'Janakpur', 'dhangadi']\n"
     ]
    }
   ],
   "source": [
    "a=[]\n",
    "for i in range(7):\n",
    "    a.append(tup[i])\n",
    "    print(a)"
   ]
  },
  {
   "cell_type": "code",
   "execution_count": 41,
   "id": "c82b83e6",
   "metadata": {},
   "outputs": [
    {
     "name": "stdout",
     "output_type": "stream",
     "text": [
      "('Kathmandu', 'Pokhara', 'Biratnagar', 'Dharan', 'Kathmandu', 'Janakpur', 'dhangadi', 'Kathmandu', 'Pokhara', 'Biratnagar', 'Dharan', 'Kathmandu', 'Janakpur', 'dhangadi', 'Kathmandu', 'Pokhara', 'Biratnagar', 'Dharan', 'Kathmandu', 'Janakpur', 'dhangadi')\n"
     ]
    }
   ],
   "source": [
    "print(tup*3)"
   ]
  },
  {
   "cell_type": "code",
   "execution_count": 42,
   "id": "beb05216",
   "metadata": {},
   "outputs": [],
   "source": [
    "#Tuple is specific and in order "
   ]
  },
  {
   "cell_type": "code",
   "execution_count": 44,
   "id": "d4ebd1b8",
   "metadata": {},
   "outputs": [
    {
     "ename": "AttributeError",
     "evalue": "type object 'tuple' has no attribute 'sort'",
     "output_type": "error",
     "traceback": [
      "\u001b[0;31m---------------------------------------------------------------------------\u001b[0m",
      "\u001b[0;31mAttributeError\u001b[0m                            Traceback (most recent call last)",
      "Cell \u001b[0;32mIn[44], line 1\u001b[0m\n\u001b[0;32m----> 1\u001b[0m \u001b[38;5;28mtuple\u001b[39m\u001b[38;5;241m.\u001b[39msort()\n",
      "\u001b[0;31mAttributeError\u001b[0m: type object 'tuple' has no attribute 'sort'"
     ]
    }
   ],
   "source": [
    "tuple.sort() #sorting hudaina tesaile rather tala ko garna milcha"
   ]
  },
  {
   "cell_type": "markdown",
   "id": "623de0fa",
   "metadata": {},
   "source": [
    "## TUPLE Methods "
   ]
  },
  {
   "cell_type": "code",
   "execution_count": 44,
   "id": "57770776",
   "metadata": {},
   "outputs": [
    {
     "data": {
      "text/plain": [
       "0"
      ]
     },
     "execution_count": 44,
     "metadata": {},
     "output_type": "execute_result"
    }
   ],
   "source": [
    "tup.count('kathmandu')"
   ]
  },
  {
   "cell_type": "code",
   "execution_count": 46,
   "id": "ef094f5f",
   "metadata": {},
   "outputs": [
    {
     "data": {
      "text/plain": [
       "3"
      ]
     },
     "execution_count": 46,
     "metadata": {},
     "output_type": "execute_result"
    }
   ],
   "source": [
    "tup.index('Dharan')"
   ]
  },
  {
   "cell_type": "code",
   "execution_count": 47,
   "id": "6b5fd10d",
   "metadata": {},
   "outputs": [
    {
     "data": {
      "text/plain": [
       "('Kathmandu',\n",
       " 'Pokhara',\n",
       " 'Biratnagar',\n",
       " 'Dharan',\n",
       " 'Kathmandu',\n",
       " 'Janakpur',\n",
       " 'dhangadi')"
      ]
     },
     "execution_count": 47,
     "metadata": {},
     "output_type": "execute_result"
    }
   ],
   "source": [
    "tup"
   ]
  },
  {
   "cell_type": "markdown",
   "id": "01ef9dc7",
   "metadata": {},
   "source": [
    "## SETS"
   ]
  },
  {
   "cell_type": "code",
   "execution_count": 3,
   "id": "179d47f8",
   "metadata": {},
   "outputs": [],
   "source": [
    "a={24,45,66,78,90,90,24,45,66,66,66}       euta type ko matra data rakhna paucha ,no bhaye no"
   ]
  },
  {
   "cell_type": "code",
   "execution_count": 4,
   "id": "ab23944e",
   "metadata": {},
   "outputs": [
    {
     "name": "stdout",
     "output_type": "stream",
     "text": [
      "{66, 24, 90, 45, 78}\n"
     ]
    }
   ],
   "source": [
    "print(a)   #only UNIQUE value no repeated value    output random in set unline tuple"
   ]
  },
  {
   "cell_type": "code",
   "execution_count": 5,
   "id": "86342a18",
   "metadata": {},
   "outputs": [
    {
     "data": {
      "text/plain": [
       "5"
      ]
     },
     "execution_count": 5,
     "metadata": {},
     "output_type": "execute_result"
    }
   ],
   "source": [
    "len(a)"
   ]
  },
  {
   "cell_type": "markdown",
   "id": "4f01aaaa",
   "metadata": {},
   "source": [
    "### ACCESS THE ELEMENT"
   ]
  },
  {
   "cell_type": "code",
   "execution_count": 19,
   "id": "4e201cb8",
   "metadata": {},
   "outputs": [
    {
     "ename": "TypeError",
     "evalue": "'set' object is not subscriptable",
     "output_type": "error",
     "traceback": [
      "\u001b[0;31m---------------------------------------------------------------------------\u001b[0m",
      "\u001b[0;31mTypeError\u001b[0m                                 Traceback (most recent call last)",
      "Cell \u001b[0;32mIn[19], line 1\u001b[0m\n\u001b[0;32m----> 1\u001b[0m a[\u001b[38;5;241m0\u001b[39m]\n",
      "\u001b[0;31mTypeError\u001b[0m: 'set' object is not subscriptable"
     ]
    }
   ],
   "source": [
    "a[0]"
   ]
  },
  {
   "cell_type": "code",
   "execution_count": 20,
   "id": "6d7ddd62",
   "metadata": {},
   "outputs": [],
   "source": [
    "#yo mathi ko milena tesaile arko waY"
   ]
  },
  {
   "cell_type": "code",
   "execution_count": 21,
   "id": "29faee51",
   "metadata": {},
   "outputs": [
    {
     "name": "stdout",
     "output_type": "stream",
     "text": [
      "1024\n",
      "66\n",
      "24\n",
      "1024\n",
      "90\n",
      "45\n",
      "78\n"
     ]
    }
   ],
   "source": [
    "for i in a:        #loop chalayera milcha\n",
    "    print(i)"
   ]
  },
  {
   "cell_type": "markdown",
   "id": "d8d17bd4",
   "metadata": {},
   "source": [
    "## Value addition in SET"
   ]
  },
  {
   "cell_type": "code",
   "execution_count": 16,
   "id": "12761d0b",
   "metadata": {},
   "outputs": [],
   "source": [
    "a.add(1024)"
   ]
  },
  {
   "cell_type": "code",
   "execution_count": 17,
   "id": "418e57cd",
   "metadata": {},
   "outputs": [
    {
     "data": {
      "text/plain": [
       "{1024, '1024', 24, 45, 66, 78, 90}"
      ]
     },
     "execution_count": 17,
     "metadata": {},
     "output_type": "execute_result"
    }
   ],
   "source": [
    "a"
   ]
  },
  {
   "cell_type": "code",
   "execution_count": 24,
   "id": "a327fa90",
   "metadata": {},
   "outputs": [],
   "source": [
    "#euta list arko ma list extend garne tarika ,pahila arko set banam"
   ]
  },
  {
   "cell_type": "code",
   "execution_count": 27,
   "id": "533f9d93",
   "metadata": {},
   "outputs": [],
   "source": [
    "b={400,300,200,1050}"
   ]
  },
  {
   "cell_type": "code",
   "execution_count": 28,
   "id": "81dd5c90",
   "metadata": {},
   "outputs": [],
   "source": [
    "a.update(b)"
   ]
  },
  {
   "cell_type": "code",
   "execution_count": 29,
   "id": "03fe4953",
   "metadata": {},
   "outputs": [
    {
     "data": {
      "text/plain": [
       "{1024, '1024', 1050, 200, 24, 300, 400, 45, 66, 78, 90}"
      ]
     },
     "execution_count": 29,
     "metadata": {},
     "output_type": "execute_result"
    }
   ],
   "source": [
    "a"
   ]
  },
  {
   "cell_type": "markdown",
   "id": "ddabb34a",
   "metadata": {},
   "source": [
    "## REMOVE ELEMENT "
   ]
  },
  {
   "cell_type": "code",
   "execution_count": 30,
   "id": "8081063a",
   "metadata": {},
   "outputs": [],
   "source": [
    "a.remove(1050)"
   ]
  },
  {
   "cell_type": "code",
   "execution_count": 31,
   "id": "b0a8e96e",
   "metadata": {},
   "outputs": [
    {
     "data": {
      "text/plain": [
       "{1024, '1024', 200, 24, 300, 400, 45, 66, 78, 90}"
      ]
     },
     "execution_count": 31,
     "metadata": {},
     "output_type": "execute_result"
    }
   ],
   "source": [
    "a"
   ]
  },
  {
   "cell_type": "code",
   "execution_count": 32,
   "id": "6d81c5a9",
   "metadata": {},
   "outputs": [],
   "source": [
    "a.remove('1024')"
   ]
  },
  {
   "cell_type": "code",
   "execution_count": 33,
   "id": "194c7097",
   "metadata": {},
   "outputs": [
    {
     "data": {
      "text/plain": [
       "{24, 45, 66, 78, 90, 200, 300, 400, 1024}"
      ]
     },
     "execution_count": 33,
     "metadata": {},
     "output_type": "execute_result"
    }
   ],
   "source": [
    "a"
   ]
  },
  {
   "cell_type": "code",
   "execution_count": 34,
   "id": "99ca91fb",
   "metadata": {},
   "outputs": [],
   "source": [
    "a.discard(1024)"
   ]
  },
  {
   "cell_type": "code",
   "execution_count": 35,
   "id": "72f9bcac",
   "metadata": {},
   "outputs": [
    {
     "data": {
      "text/plain": [
       "{24, 45, 66, 78, 90, 200, 300, 400}"
      ]
     },
     "execution_count": 35,
     "metadata": {},
     "output_type": "execute_result"
    }
   ],
   "source": [
    "a"
   ]
  },
  {
   "cell_type": "code",
   "execution_count": 36,
   "id": "0b6bc27c",
   "metadata": {},
   "outputs": [],
   "source": [
    "#remove ra discard difference - hataune value payena bane error huncha remove ma discard ma hudaina "
   ]
  },
  {
   "cell_type": "code",
   "execution_count": 37,
   "id": "5188b27c",
   "metadata": {},
   "outputs": [
    {
     "data": {
      "text/plain": [
       "66"
      ]
     },
     "execution_count": 37,
     "metadata": {},
     "output_type": "execute_result"
    }
   ],
   "source": [
    "a.pop()"
   ]
  },
  {
   "cell_type": "code",
   "execution_count": 38,
   "id": "74fc6c1f",
   "metadata": {},
   "outputs": [
    {
     "data": {
      "text/plain": [
       "{24, 45, 78, 90, 200, 300, 400}"
      ]
     },
     "execution_count": 38,
     "metadata": {},
     "output_type": "execute_result"
    }
   ],
   "source": [
    "a"
   ]
  },
  {
   "cell_type": "markdown",
   "id": "d2b32d00",
   "metadata": {},
   "source": [
    "## Del and Clear"
   ]
  },
  {
   "cell_type": "code",
   "execution_count": 39,
   "id": "25be088c",
   "metadata": {},
   "outputs": [
    {
     "data": {
      "text/plain": [
       "{24, 45, 78, 90, 200, 300, 400}"
      ]
     },
     "execution_count": 39,
     "metadata": {},
     "output_type": "execute_result"
    }
   ],
   "source": [
    "a"
   ]
  },
  {
   "cell_type": "code",
   "execution_count": 40,
   "id": "451a6046",
   "metadata": {},
   "outputs": [
    {
     "data": {
      "text/plain": [
       "{200, 300, 400, 1050}"
      ]
     },
     "execution_count": 40,
     "metadata": {},
     "output_type": "execute_result"
    }
   ],
   "source": [
    "b"
   ]
  },
  {
   "cell_type": "code",
   "execution_count": 41,
   "id": "d90685e7",
   "metadata": {},
   "outputs": [],
   "source": [
    "del a"
   ]
  },
  {
   "cell_type": "code",
   "execution_count": 42,
   "id": "0b854d85",
   "metadata": {},
   "outputs": [],
   "source": [
    "b.clear()"
   ]
  },
  {
   "cell_type": "code",
   "execution_count": 43,
   "id": "e646f9fe",
   "metadata": {},
   "outputs": [
    {
     "ename": "NameError",
     "evalue": "name 'a' is not defined",
     "output_type": "error",
     "traceback": [
      "\u001b[0;31m---------------------------------------------------------------------------\u001b[0m",
      "\u001b[0;31mNameError\u001b[0m                                 Traceback (most recent call last)",
      "Cell \u001b[0;32mIn[43], line 1\u001b[0m\n\u001b[0;32m----> 1\u001b[0m a\n",
      "\u001b[0;31mNameError\u001b[0m: name 'a' is not defined"
     ]
    }
   ],
   "source": [
    "a"
   ]
  },
  {
   "cell_type": "code",
   "execution_count": 44,
   "id": "f8ea5c26",
   "metadata": {},
   "outputs": [
    {
     "data": {
      "text/plain": [
       "set()"
      ]
     },
     "execution_count": 44,
     "metadata": {},
     "output_type": "execute_result"
    }
   ],
   "source": [
    "b"
   ]
  },
  {
   "cell_type": "markdown",
   "id": "249e0dec",
   "metadata": {},
   "source": [
    "## Joining the set"
   ]
  },
  {
   "cell_type": "code",
   "execution_count": 46,
   "id": "a9860d7f",
   "metadata": {},
   "outputs": [],
   "source": [
    "a={24, 45, 78, 90, 200, 300, 400}"
   ]
  },
  {
   "cell_type": "code",
   "execution_count": 50,
   "id": "eeb2a4f3",
   "metadata": {},
   "outputs": [],
   "source": [
    "b={200, 300, 400, 1050}\n",
    "c={23,89,67,45,'tenzin'}"
   ]
  },
  {
   "cell_type": "code",
   "execution_count": 51,
   "id": "c1ee00b9",
   "metadata": {},
   "outputs": [
    {
     "data": {
      "text/plain": [
       "{24, 45, 78, 90, 200, 300, 400, 1050}"
      ]
     },
     "execution_count": 51,
     "metadata": {},
     "output_type": "execute_result"
    }
   ],
   "source": [
    "a.union(b) #single all numbers "
   ]
  },
  {
   "cell_type": "code",
   "execution_count": 52,
   "id": "5e8d1341",
   "metadata": {},
   "outputs": [
    {
     "data": {
      "text/plain": [
       "{200, 300, 400}"
      ]
     },
     "execution_count": 52,
     "metadata": {},
     "output_type": "execute_result"
    }
   ],
   "source": [
    "a.intersection(b)   #common "
   ]
  },
  {
   "cell_type": "code",
   "execution_count": 53,
   "id": "8f2d6ea3",
   "metadata": {},
   "outputs": [
    {
     "data": {
      "text/plain": [
       "{200, 23, 24, 300, 400, 45, 67, 78, 89, 90, 'tenzin'}"
      ]
     },
     "execution_count": 53,
     "metadata": {},
     "output_type": "execute_result"
    }
   ],
   "source": [
    "a.union(c)"
   ]
  },
  {
   "cell_type": "code",
   "execution_count": 54,
   "id": "cf00bb33",
   "metadata": {},
   "outputs": [
    {
     "data": {
      "text/plain": [
       "{45}"
      ]
     },
     "execution_count": 54,
     "metadata": {},
     "output_type": "execute_result"
    }
   ],
   "source": [
    "a.intersection(c)"
   ]
  },
  {
   "cell_type": "code",
   "execution_count": 55,
   "id": "bd65f150",
   "metadata": {},
   "outputs": [
    {
     "data": {
      "text/plain": [
       "{24, 45, 78, 90}"
      ]
     },
     "execution_count": 55,
     "metadata": {},
     "output_type": "execute_result"
    }
   ],
   "source": [
    "a.difference(b)"
   ]
  },
  {
   "cell_type": "code",
   "execution_count": 56,
   "id": "8307ede4",
   "metadata": {},
   "outputs": [
    {
     "data": {
      "text/plain": [
       "{200, 300, 400, 1050}"
      ]
     },
     "execution_count": 56,
     "metadata": {},
     "output_type": "execute_result"
    }
   ],
   "source": [
    "b.difference(c)"
   ]
  },
  {
   "cell_type": "code",
   "execution_count": 59,
   "id": "8a4355ed",
   "metadata": {},
   "outputs": [
    {
     "data": {
      "text/plain": [
       "{24, 45, 78, 90}"
      ]
     },
     "execution_count": 59,
     "metadata": {},
     "output_type": "execute_result"
    }
   ],
   "source": [
    "a-b #sign use garda pani bho"
   ]
  },
  {
   "cell_type": "code",
   "execution_count": 61,
   "id": "a19fad9b",
   "metadata": {},
   "outputs": [],
   "source": [
    "d=a.copy()"
   ]
  },
  {
   "cell_type": "code",
   "execution_count": 62,
   "id": "a31e2c6a",
   "metadata": {},
   "outputs": [
    {
     "data": {
      "text/plain": [
       "{24, 45, 78, 90, 200, 300, 400}"
      ]
     },
     "execution_count": 62,
     "metadata": {},
     "output_type": "execute_result"
    }
   ],
   "source": [
    "d"
   ]
  },
  {
   "cell_type": "markdown",
   "id": "e6c512b5",
   "metadata": {},
   "source": [
    "## Dictionary"
   ]
  },
  {
   "cell_type": "code",
   "execution_count": 1,
   "id": "4e6d2da9",
   "metadata": {},
   "outputs": [],
   "source": [
    "dict_age = {\n",
    "    'Tenzin':56, 'Dolma':34, 'Dawa':93,'lhakpa':75\n",
    "}"
   ]
  },
  {
   "cell_type": "code",
   "execution_count": null,
   "id": "248ec34f",
   "metadata": {},
   "outputs": [],
   "source": [
    "#dictionary define garne arko way : ''yo haru use nagarne wala"
   ]
  },
  {
   "cell_type": "code",
   "execution_count": 6,
   "id": "2c5c9017",
   "metadata": {},
   "outputs": [],
   "source": [
    "abc=dict(Tenzin=67, Tsering=82)"
   ]
  },
  {
   "cell_type": "code",
   "execution_count": 7,
   "id": "59ddde8c",
   "metadata": {},
   "outputs": [
    {
     "data": {
      "text/plain": [
       "dict"
      ]
     },
     "execution_count": 7,
     "metadata": {},
     "output_type": "execute_result"
    }
   ],
   "source": [
    "type(abc)"
   ]
  },
  {
   "cell_type": "code",
   "execution_count": 2,
   "id": "a81671df",
   "metadata": {},
   "outputs": [
    {
     "data": {
      "text/plain": [
       "dict"
      ]
     },
     "execution_count": 2,
     "metadata": {},
     "output_type": "execute_result"
    }
   ],
   "source": [
    "type(dict_age)  #tenzin or can use numbers is key , 56 is value "
   ]
  },
  {
   "cell_type": "code",
   "execution_count": 3,
   "id": "5c19f7b7",
   "metadata": {},
   "outputs": [
    {
     "name": "stdout",
     "output_type": "stream",
     "text": [
      "{'Tenzin': 56, 'Dolma': 34, 'Dawa': 93, 'lhakpa': 75}\n"
     ]
    }
   ],
   "source": [
    "print(dict_age)"
   ]
  },
  {
   "cell_type": "code",
   "execution_count": 4,
   "id": "583b89a7",
   "metadata": {},
   "outputs": [
    {
     "data": {
      "text/plain": [
       "34"
      ]
     },
     "execution_count": 4,
     "metadata": {},
     "output_type": "execute_result"
    }
   ],
   "source": [
    "#Item accessed\n",
    "dict_age['Dolma']"
   ]
  },
  {
   "cell_type": "code",
   "execution_count": 5,
   "id": "bfea6601",
   "metadata": {},
   "outputs": [
    {
     "data": {
      "text/plain": [
       "4"
      ]
     },
     "execution_count": 5,
     "metadata": {},
     "output_type": "execute_result"
    }
   ],
   "source": [
    "len(dict_age)"
   ]
  },
  {
   "cell_type": "markdown",
   "id": "9fc98808",
   "metadata": {},
   "source": [
    "### Items Access"
   ]
  },
  {
   "cell_type": "code",
   "execution_count": 8,
   "id": "ee9e33dd",
   "metadata": {},
   "outputs": [
    {
     "data": {
      "text/plain": [
       "67"
      ]
     },
     "execution_count": 8,
     "metadata": {},
     "output_type": "execute_result"
    }
   ],
   "source": [
    "abc['Tenzin']"
   ]
  },
  {
   "cell_type": "code",
   "execution_count": 9,
   "id": "363f6971",
   "metadata": {},
   "outputs": [
    {
     "data": {
      "text/plain": [
       "67"
      ]
     },
     "execution_count": 9,
     "metadata": {},
     "output_type": "execute_result"
    }
   ],
   "source": [
    "abc.get('Tenzin')"
   ]
  },
  {
   "cell_type": "code",
   "execution_count": 10,
   "id": "08013cb1",
   "metadata": {},
   "outputs": [
    {
     "data": {
      "text/plain": [
       "dict_keys(['Tenzin', 'Dolma', 'Dawa', 'lhakpa'])"
      ]
     },
     "execution_count": 10,
     "metadata": {},
     "output_type": "execute_result"
    }
   ],
   "source": [
    "dict_age.keys()"
   ]
  },
  {
   "cell_type": "markdown",
   "id": "30d236c1",
   "metadata": {},
   "source": [
    "### Items  Changeable"
   ]
  },
  {
   "cell_type": "code",
   "execution_count": 12,
   "id": "021fc4c0",
   "metadata": {},
   "outputs": [],
   "source": [
    "abc['Tenzin']= 92"
   ]
  },
  {
   "cell_type": "code",
   "execution_count": 14,
   "id": "342ec38e",
   "metadata": {},
   "outputs": [
    {
     "data": {
      "text/plain": [
       "{'Tenzin': 92, 'Tsering': 82}"
      ]
     },
     "execution_count": 14,
     "metadata": {},
     "output_type": "execute_result"
    }
   ],
   "source": [
    "abc"
   ]
  },
  {
   "cell_type": "code",
   "execution_count": 15,
   "id": "e1649504",
   "metadata": {},
   "outputs": [],
   "source": [
    "abc.update({'Tsering':71})"
   ]
  },
  {
   "cell_type": "code",
   "execution_count": 16,
   "id": "6c7ee7b5",
   "metadata": {},
   "outputs": [
    {
     "data": {
      "text/plain": [
       "{'Tenzin': 92, 'Tsering': 71}"
      ]
     },
     "execution_count": 16,
     "metadata": {},
     "output_type": "execute_result"
    }
   ],
   "source": [
    "abc"
   ]
  },
  {
   "cell_type": "markdown",
   "id": "bb2ae2a2",
   "metadata": {},
   "source": [
    "## ADD Items"
   ]
  },
  {
   "cell_type": "code",
   "execution_count": 19,
   "id": "7e2abda6",
   "metadata": {},
   "outputs": [],
   "source": [
    "abc.update({'Dolkar':75})"
   ]
  },
  {
   "cell_type": "code",
   "execution_count": 21,
   "id": "2c3e3dcc",
   "metadata": {},
   "outputs": [
    {
     "data": {
      "text/plain": [
       "{'Tenzin': 92, 'Tsering': 71, 'Dolkar': 75}"
      ]
     },
     "execution_count": 21,
     "metadata": {},
     "output_type": "execute_result"
    }
   ],
   "source": [
    "abc"
   ]
  },
  {
   "cell_type": "code",
   "execution_count": 22,
   "id": "e59425ff",
   "metadata": {},
   "outputs": [],
   "source": [
    "abc['Norbu']=True"
   ]
  },
  {
   "cell_type": "code",
   "execution_count": 23,
   "id": "710179e4",
   "metadata": {},
   "outputs": [
    {
     "data": {
      "text/plain": [
       "{'Tenzin': 92, 'Tsering': 71, 'Dolkar': 75, 'Norbu': True}"
      ]
     },
     "execution_count": 23,
     "metadata": {},
     "output_type": "execute_result"
    }
   ],
   "source": [
    "abc"
   ]
  },
  {
   "cell_type": "markdown",
   "id": "d2786b67",
   "metadata": {},
   "source": [
    "## Remove Items"
   ]
  },
  {
   "cell_type": "code",
   "execution_count": 24,
   "id": "b1ce6d9b",
   "metadata": {},
   "outputs": [
    {
     "data": {
      "text/plain": [
       "{'Tenzin': 92, 'Tsering': 71, 'Dolkar': 75, 'Norbu': True}"
      ]
     },
     "execution_count": 24,
     "metadata": {},
     "output_type": "execute_result"
    }
   ],
   "source": [
    "abc"
   ]
  },
  {
   "cell_type": "code",
   "execution_count": 26,
   "id": "1b341162",
   "metadata": {},
   "outputs": [
    {
     "data": {
      "text/plain": [
       "True"
      ]
     },
     "execution_count": 26,
     "metadata": {},
     "output_type": "execute_result"
    }
   ],
   "source": [
    "abc.pop('Norbu')  , #yesma chai argumnet euta halnai parcha tara list ma pardaina"
   ]
  },
  {
   "cell_type": "code",
   "execution_count": 27,
   "id": "2c9ce094",
   "metadata": {},
   "outputs": [
    {
     "data": {
      "text/plain": [
       "{'Tenzin': 92, 'Tsering': 71, 'Dolkar': 75}"
      ]
     },
     "execution_count": 27,
     "metadata": {},
     "output_type": "execute_result"
    }
   ],
   "source": [
    "abc"
   ]
  },
  {
   "cell_type": "code",
   "execution_count": 29,
   "id": "b2bf0872",
   "metadata": {},
   "outputs": [
    {
     "data": {
      "text/plain": [
       "('Dolkar', 75)"
      ]
     },
     "execution_count": 29,
     "metadata": {},
     "output_type": "execute_result"
    }
   ],
   "source": [
    "abc.popitem() #YO GARDA CHAI ARGUMent halnu parena automatic last ko value hataucha"
   ]
  },
  {
   "cell_type": "markdown",
   "id": "a1b6cca4",
   "metadata": {},
   "source": [
    "## LOOPING IN dictionary "
   ]
  },
  {
   "cell_type": "code",
   "execution_count": 30,
   "id": "9d2cd85c",
   "metadata": {},
   "outputs": [
    {
     "name": "stdout",
     "output_type": "stream",
     "text": [
      "Tenzin\n",
      "Tsering\n"
     ]
    }
   ],
   "source": [
    "for i in abc:\n",
    "    print(i)"
   ]
  },
  {
   "cell_type": "code",
   "execution_count": 32,
   "id": "e21528ad",
   "metadata": {},
   "outputs": [
    {
     "name": "stdout",
     "output_type": "stream",
     "text": [
      "Tenzin\n",
      "Tsering\n"
     ]
    }
   ],
   "source": [
    "for i in abc.keys():\n",
    "      print(i)"
   ]
  },
  {
   "cell_type": "code",
   "execution_count": 33,
   "id": "d014f56c",
   "metadata": {},
   "outputs": [
    {
     "name": "stdout",
     "output_type": "stream",
     "text": [
      "92\n",
      "71\n"
     ]
    }
   ],
   "source": [
    "for i in abc.values():\n",
    "    print(i)"
   ]
  },
  {
   "cell_type": "code",
   "execution_count": 35,
   "id": "e0601f19",
   "metadata": {},
   "outputs": [
    {
     "name": "stdout",
     "output_type": "stream",
     "text": [
      "The lucky number or string of Tenzin is 92\n",
      "The lucky number or string of Tsering is 71\n"
     ]
    }
   ],
   "source": [
    "for x,y in abc.items():\n",
    "    print(f'The lucky number or string of {x} is {y}')"
   ]
  },
  {
   "cell_type": "markdown",
   "id": "e87799ce",
   "metadata": {},
   "source": [
    "## COPYING "
   ]
  },
  {
   "cell_type": "code",
   "execution_count": 36,
   "id": "4374f848",
   "metadata": {},
   "outputs": [],
   "source": [
    "bbc=abc"
   ]
  },
  {
   "cell_type": "code",
   "execution_count": 37,
   "id": "9bcfa6bc",
   "metadata": {},
   "outputs": [
    {
     "data": {
      "text/plain": [
       "{'Tenzin': 92, 'Tsering': 71}"
      ]
     },
     "execution_count": 37,
     "metadata": {},
     "output_type": "execute_result"
    }
   ],
   "source": [
    "bbc"
   ]
  },
  {
   "cell_type": "code",
   "execution_count": 38,
   "id": "1137315f",
   "metadata": {},
   "outputs": [
    {
     "data": {
      "text/plain": [
       "('Tsering', 71)"
      ]
     },
     "execution_count": 38,
     "metadata": {},
     "output_type": "execute_result"
    }
   ],
   "source": [
    "abc.popitem()"
   ]
  },
  {
   "cell_type": "code",
   "execution_count": 39,
   "id": "b7dbeb7c",
   "metadata": {},
   "outputs": [
    {
     "data": {
      "text/plain": [
       "{'Tenzin': 92}"
      ]
     },
     "execution_count": 39,
     "metadata": {},
     "output_type": "execute_result"
    }
   ],
   "source": [
    "abc"
   ]
  },
  {
   "cell_type": "code",
   "execution_count": 40,
   "id": "1c74282a",
   "metadata": {},
   "outputs": [
    {
     "data": {
      "text/plain": [
       "{'Tenzin': 92}"
      ]
     },
     "execution_count": 40,
     "metadata": {},
     "output_type": "execute_result"
    }
   ],
   "source": [
    "bbc"
   ]
  },
  {
   "cell_type": "code",
   "execution_count": 41,
   "id": "0d417676",
   "metadata": {},
   "outputs": [],
   "source": [
    "##COPY BANNE WAY BATA SAME COPY HUNNA"
   ]
  },
  {
   "cell_type": "code",
   "execution_count": 42,
   "id": "21f13ab5",
   "metadata": {},
   "outputs": [],
   "source": [
    "ccc=abc.copy()"
   ]
  },
  {
   "cell_type": "code",
   "execution_count": 43,
   "id": "c8a20656",
   "metadata": {},
   "outputs": [
    {
     "data": {
      "text/plain": [
       "{'Tenzin': 92}"
      ]
     },
     "execution_count": 43,
     "metadata": {},
     "output_type": "execute_result"
    }
   ],
   "source": [
    "ccc"
   ]
  },
  {
   "cell_type": "code",
   "execution_count": 45,
   "id": "484268eb",
   "metadata": {},
   "outputs": [
    {
     "data": {
      "text/plain": [
       "('Tenzin', 92)"
      ]
     },
     "execution_count": 45,
     "metadata": {},
     "output_type": "execute_result"
    }
   ],
   "source": [
    "abc.popitem()"
   ]
  },
  {
   "cell_type": "code",
   "execution_count": 46,
   "id": "6c62dde2",
   "metadata": {},
   "outputs": [
    {
     "data": {
      "text/plain": [
       "{'Tenzin': 92}"
      ]
     },
     "execution_count": 46,
     "metadata": {},
     "output_type": "execute_result"
    }
   ],
   "source": [
    "ccc"
   ]
  },
  {
   "cell_type": "code",
   "execution_count": 47,
   "id": "a944e4d1",
   "metadata": {},
   "outputs": [
    {
     "data": {
      "text/plain": [
       "{}"
      ]
     },
     "execution_count": 47,
     "metadata": {},
     "output_type": "execute_result"
    }
   ],
   "source": [
    "abc"
   ]
  },
  {
   "cell_type": "code",
   "execution_count": 48,
   "id": "d3f442b2",
   "metadata": {},
   "outputs": [],
   "source": [
    "#Clear\n",
    "ccc.clear()"
   ]
  },
  {
   "cell_type": "code",
   "execution_count": 49,
   "id": "0e7c1853",
   "metadata": {},
   "outputs": [
    {
     "data": {
      "text/plain": [
       "{}"
      ]
     },
     "execution_count": 49,
     "metadata": {},
     "output_type": "execute_result"
    }
   ],
   "source": [
    "ccc"
   ]
  },
  {
   "cell_type": "code",
   "execution_count": 50,
   "id": "0b6f0da4",
   "metadata": {},
   "outputs": [],
   "source": [
    "del ccc"
   ]
  },
  {
   "cell_type": "code",
   "execution_count": 51,
   "id": "ad9a88e6",
   "metadata": {},
   "outputs": [
    {
     "ename": "NameError",
     "evalue": "name 'ccc' is not defined",
     "output_type": "error",
     "traceback": [
      "\u001b[0;31m---------------------------------------------------------------------------\u001b[0m",
      "\u001b[0;31mNameError\u001b[0m                                 Traceback (most recent call last)",
      "Cell \u001b[0;32mIn[51], line 1\u001b[0m\n\u001b[0;32m----> 1\u001b[0m ccc\n",
      "\u001b[0;31mNameError\u001b[0m: name 'ccc' is not defined"
     ]
    }
   ],
   "source": [
    "ccc"
   ]
  },
  {
   "cell_type": "markdown",
   "id": "45a4e91a",
   "metadata": {},
   "source": [
    "## Nested List/Dict"
   ]
  },
  {
   "cell_type": "code",
   "execution_count": 52,
   "id": "75b995c2",
   "metadata": {},
   "outputs": [],
   "source": [
    "a=[50,'Norah',False,'Lhakpa',500]"
   ]
  },
  {
   "cell_type": "code",
   "execution_count": 54,
   "id": "50d76d6e",
   "metadata": {},
   "outputs": [
    {
     "data": {
      "text/plain": [
       "list"
      ]
     },
     "execution_count": 54,
     "metadata": {},
     "output_type": "execute_result"
    }
   ],
   "source": [
    "type(a)"
   ]
  },
  {
   "cell_type": "code",
   "execution_count": 55,
   "id": "d1741351",
   "metadata": {},
   "outputs": [
    {
     "data": {
      "text/plain": [
       "5"
      ]
     },
     "execution_count": 55,
     "metadata": {},
     "output_type": "execute_result"
    }
   ],
   "source": [
    "len(a)"
   ]
  },
  {
   "cell_type": "code",
   "execution_count": 56,
   "id": "add4156f",
   "metadata": {},
   "outputs": [],
   "source": [
    "b=[50,['Norah',False],['Lhakpa',500]]"
   ]
  },
  {
   "cell_type": "code",
   "execution_count": 57,
   "id": "36d739c6",
   "metadata": {},
   "outputs": [
    {
     "data": {
      "text/plain": [
       "3"
      ]
     },
     "execution_count": 57,
     "metadata": {},
     "output_type": "execute_result"
    }
   ],
   "source": [
    "len(b)"
   ]
  },
  {
   "cell_type": "code",
   "execution_count": 58,
   "id": "71fa2d20",
   "metadata": {},
   "outputs": [
    {
     "data": {
      "text/plain": [
       "['Norah', False]"
      ]
     },
     "execution_count": 58,
     "metadata": {},
     "output_type": "execute_result"
    }
   ],
   "source": [
    "b[1]"
   ]
  },
  {
   "cell_type": "code",
   "execution_count": 59,
   "id": "3be9317d",
   "metadata": {},
   "outputs": [
    {
     "data": {
      "text/plain": [
       "False"
      ]
     },
     "execution_count": 59,
     "metadata": {},
     "output_type": "execute_result"
    }
   ],
   "source": [
    "b[1][1]"
   ]
  },
  {
   "cell_type": "code",
   "execution_count": 60,
   "id": "3c4d0067",
   "metadata": {},
   "outputs": [
    {
     "data": {
      "text/plain": [
       "'Lhakpa'"
      ]
     },
     "execution_count": 60,
     "metadata": {},
     "output_type": "execute_result"
    }
   ],
   "source": [
    "b[2][0]"
   ]
  },
  {
   "cell_type": "code",
   "execution_count": 61,
   "id": "fa366906",
   "metadata": {},
   "outputs": [],
   "source": [
    "d=tuple(a)"
   ]
  },
  {
   "cell_type": "code",
   "execution_count": 62,
   "id": "290707b8",
   "metadata": {},
   "outputs": [
    {
     "data": {
      "text/plain": [
       "(50, 'Norah', False, 'Lhakpa', 500)"
      ]
     },
     "execution_count": 62,
     "metadata": {},
     "output_type": "execute_result"
    }
   ],
   "source": [
    "d"
   ]
  },
  {
   "cell_type": "code",
   "execution_count": 63,
   "id": "a4b3a7ec",
   "metadata": {},
   "outputs": [
    {
     "data": {
      "text/plain": [
       "tuple"
      ]
     },
     "execution_count": 63,
     "metadata": {},
     "output_type": "execute_result"
    }
   ],
   "source": [
    "type(d)"
   ]
  },
  {
   "cell_type": "code",
   "execution_count": 64,
   "id": "f4d8ce67",
   "metadata": {},
   "outputs": [],
   "source": [
    "c=(50, ('Norah', False), ('Lhakpa', 500))"
   ]
  },
  {
   "cell_type": "code",
   "execution_count": 65,
   "id": "aee76b3d",
   "metadata": {},
   "outputs": [
    {
     "data": {
      "text/plain": [
       "(50, ('Norah', False), ('Lhakpa', 500))"
      ]
     },
     "execution_count": 65,
     "metadata": {},
     "output_type": "execute_result"
    }
   ],
   "source": [
    "c"
   ]
  },
  {
   "cell_type": "code",
   "execution_count": 66,
   "id": "259eccf8",
   "metadata": {},
   "outputs": [
    {
     "data": {
      "text/plain": [
       "500"
      ]
     },
     "execution_count": 66,
     "metadata": {},
     "output_type": "execute_result"
    }
   ],
   "source": [
    "c[2][1]"
   ]
  },
  {
   "cell_type": "code",
   "execution_count": 67,
   "id": "a6d22bdf",
   "metadata": {},
   "outputs": [
    {
     "ename": "SyntaxError",
     "evalue": "invalid syntax (3968563802.py, line 1)",
     "output_type": "error",
     "traceback": [
      "\u001b[0;36m  Cell \u001b[0;32mIn[67], line 1\u001b[0;36m\u001b[0m\n\u001b[0;31m    d={} yo chai set ma hudaina\u001b[0m\n\u001b[0m         ^\u001b[0m\n\u001b[0;31mSyntaxError\u001b[0m\u001b[0;31m:\u001b[0m invalid syntax\n"
     ]
    }
   ],
   "source": [
    "d={} yo chai set ma hudaina"
   ]
  },
  {
   "cell_type": "code",
   "execution_count": 68,
   "id": "1aa5f564",
   "metadata": {},
   "outputs": [],
   "source": [
    "#Dictionary"
   ]
  },
  {
   "cell_type": "code",
   "execution_count": 72,
   "id": "7a3dc8eb",
   "metadata": {},
   "outputs": [],
   "source": [
    "stu={'Lhakpa':{'Science':87,'Maths':96 },'Neemkaji':90}"
   ]
  },
  {
   "cell_type": "code",
   "execution_count": 73,
   "id": "35afc3b4",
   "metadata": {},
   "outputs": [
    {
     "data": {
      "text/plain": [
       "{'Lhakpa': {'Science': 87, 'Maths': 96}, 'Neemkaji': 90}"
      ]
     },
     "execution_count": 73,
     "metadata": {},
     "output_type": "execute_result"
    }
   ],
   "source": [
    "stu"
   ]
  },
  {
   "cell_type": "code",
   "execution_count": 75,
   "id": "0b29d02e",
   "metadata": {},
   "outputs": [
    {
     "data": {
      "text/plain": [
       "{'Science': 87, 'Maths': 96}"
      ]
     },
     "execution_count": 75,
     "metadata": {},
     "output_type": "execute_result"
    }
   ],
   "source": [
    "stu['Lhakpa']"
   ]
  },
  {
   "cell_type": "code",
   "execution_count": 76,
   "id": "71c75ecd",
   "metadata": {},
   "outputs": [
    {
     "data": {
      "text/plain": [
       "87"
      ]
     },
     "execution_count": 76,
     "metadata": {},
     "output_type": "execute_result"
    }
   ],
   "source": [
    "stu['Lhakpa']['Science']"
   ]
  },
  {
   "cell_type": "code",
   "execution_count": 77,
   "id": "d8e93b74",
   "metadata": {},
   "outputs": [
    {
     "data": {
      "text/plain": [
       "90"
      ]
     },
     "execution_count": 77,
     "metadata": {},
     "output_type": "execute_result"
    }
   ],
   "source": [
    "stu['Neemkaji']"
   ]
  },
  {
   "cell_type": "code",
   "execution_count": null,
   "id": "6f29e63b",
   "metadata": {},
   "outputs": [],
   "source": []
  }
 ],
 "metadata": {
  "kernelspec": {
   "display_name": "Python 3 (ipykernel)",
   "language": "python",
   "name": "python3"
  },
  "language_info": {
   "codemirror_mode": {
    "name": "ipython",
    "version": 3
   },
   "file_extension": ".py",
   "mimetype": "text/x-python",
   "name": "python",
   "nbconvert_exporter": "python",
   "pygments_lexer": "ipython3",
   "version": "3.12.4"
  }
 },
 "nbformat": 4,
 "nbformat_minor": 5
}
