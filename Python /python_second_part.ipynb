{
 "cells": [
  {
   "cell_type": "code",
   "execution_count": 61,
   "id": "5129139f",
   "metadata": {},
   "outputs": [],
   "source": [
    "a='Egg '"
   ]
  },
  {
   "cell_type": "code",
   "execution_count": 62,
   "id": "5451b49c",
   "metadata": {},
   "outputs": [
    {
     "name": "stdout",
     "output_type": "stream",
     "text": [
      "Egg Egg \n"
     ]
    }
   ],
   "source": [
    "b=a+a\n",
    "print(b)"
   ]
  },
  {
   "cell_type": "code",
   "execution_count": 63,
   "id": "b5d99a60",
   "metadata": {},
   "outputs": [
    {
     "name": "stdout",
     "output_type": "stream",
     "text": [
      "Egg Egg Egg Egg Egg Egg Egg Egg Egg Egg Egg Egg Egg Egg Egg Egg Egg Egg Egg Egg \n"
     ]
    }
   ],
   "source": [
    "c=a*20\n",
    "print (c)"
   ]
  },
  {
   "cell_type": "markdown",
   "id": "cd7c5112",
   "metadata": {},
   "source": [
    "# List"
   ]
  },
  {
   "cell_type": "code",
   "execution_count": 98,
   "id": "093bc6d1",
   "metadata": {},
   "outputs": [],
   "source": [
    "a=['Tenzin','Lhakpa','Neemkaji','Norah','sangey']"
   ]
  },
  {
   "cell_type": "code",
   "execution_count": 99,
   "id": "ee0c1d84",
   "metadata": {},
   "outputs": [
    {
     "data": {
      "text/plain": [
       "list"
      ]
     },
     "execution_count": 99,
     "metadata": {},
     "output_type": "execute_result"
    }
   ],
   "source": [
    "type(a)"
   ]
  },
  {
   "cell_type": "code",
   "execution_count": 100,
   "id": "21711a3e",
   "metadata": {},
   "outputs": [],
   "source": [
    "## List is Indexed \n",
    "## Elements of list are changeable \n",
    "## List allows duplication of value "
   ]
  },
  {
   "cell_type": "code",
   "execution_count": 101,
   "id": "a332da54",
   "metadata": {},
   "outputs": [
    {
     "data": {
      "text/plain": [
       "'Tenzin'"
      ]
     },
     "execution_count": 101,
     "metadata": {},
     "output_type": "execute_result"
    }
   ],
   "source": [
    "a[0]"
   ]
  },
  {
   "cell_type": "code",
   "execution_count": 102,
   "id": "b7080ea6",
   "metadata": {},
   "outputs": [
    {
     "data": {
      "text/plain": [
       "'sangey'"
      ]
     },
     "execution_count": 102,
     "metadata": {},
     "output_type": "execute_result"
    }
   ],
   "source": [
    "a[-1]"
   ]
  },
  {
   "cell_type": "code",
   "execution_count": 103,
   "id": "f4c90067",
   "metadata": {},
   "outputs": [
    {
     "data": {
      "text/plain": [
       "'Norah'"
      ]
     },
     "execution_count": 103,
     "metadata": {},
     "output_type": "execute_result"
    }
   ],
   "source": [
    "a[-2]"
   ]
  },
  {
   "cell_type": "code",
   "execution_count": 104,
   "id": "5f4826ce",
   "metadata": {},
   "outputs": [
    {
     "data": {
      "text/plain": [
       "'Norah'"
      ]
     },
     "execution_count": 104,
     "metadata": {},
     "output_type": "execute_result"
    }
   ],
   "source": [
    "a[3]"
   ]
  },
  {
   "cell_type": "code",
   "execution_count": 105,
   "id": "1a155628",
   "metadata": {},
   "outputs": [
    {
     "data": {
      "text/plain": [
       "['Tenzin', 'Lhakpa', 'Neemkaji', 'Norah', 'sangey']"
      ]
     },
     "execution_count": 105,
     "metadata": {},
     "output_type": "execute_result"
    }
   ],
   "source": [
    "a"
   ]
  },
  {
   "cell_type": "code",
   "execution_count": 106,
   "id": "23d9a64f",
   "metadata": {},
   "outputs": [
    {
     "data": {
      "text/plain": [
       "5"
      ]
     },
     "execution_count": 106,
     "metadata": {},
     "output_type": "execute_result"
    }
   ],
   "source": [
    "len(a) #This allows us to know how many elements are there in the list"
   ]
  },
  {
   "cell_type": "code",
   "execution_count": 107,
   "id": "912db846",
   "metadata": {},
   "outputs": [],
   "source": [
    "## List can have different Data Types"
   ]
  },
  {
   "cell_type": "code",
   "execution_count": 108,
   "id": "d09fb4fb",
   "metadata": {},
   "outputs": [],
   "source": [
    "b=['Hello',7,False, 'Module',True, 55, 60.0] ## this values are heterogenous data: different kinds "
   ]
  },
  {
   "cell_type": "code",
   "execution_count": 109,
   "id": "d643d526",
   "metadata": {},
   "outputs": [
    {
     "data": {
      "text/plain": [
       "['Hello', 7, False, 'Module', True, 55, 60.0]"
      ]
     },
     "execution_count": 109,
     "metadata": {},
     "output_type": "execute_result"
    }
   ],
   "source": [
    "b"
   ]
  },
  {
   "cell_type": "code",
   "execution_count": 110,
   "id": "ed87ed4d",
   "metadata": {},
   "outputs": [],
   "source": [
    "## List can be created in another way\n"
   ]
  },
  {
   "cell_type": "code",
   "execution_count": 111,
   "id": "3d22eb3d",
   "metadata": {},
   "outputs": [],
   "source": [
    "c=list(('hello',2,False,'Module',True,55,60.0)) #Yo baneko yo sab elements lai ek musta ma linu -single argument"
   ]
  },
  {
   "cell_type": "code",
   "execution_count": 112,
   "id": "4b9ba0fe",
   "metadata": {},
   "outputs": [
    {
     "data": {
      "text/plain": [
       "['hello', 2, False, 'Module', True, 55, 60.0]"
      ]
     },
     "execution_count": 112,
     "metadata": {},
     "output_type": "execute_result"
    }
   ],
   "source": [
    "c"
   ]
  },
  {
   "cell_type": "code",
   "execution_count": 113,
   "id": "6bd3dfe4",
   "metadata": {},
   "outputs": [
    {
     "data": {
      "text/plain": [
       "list"
      ]
     },
     "execution_count": 113,
     "metadata": {},
     "output_type": "execute_result"
    }
   ],
   "source": [
    "type(c)"
   ]
  },
  {
   "cell_type": "code",
   "execution_count": 114,
   "id": "eda6d2cc",
   "metadata": {},
   "outputs": [],
   "source": [
    "## Items in List can be accessed "
   ]
  },
  {
   "cell_type": "code",
   "execution_count": 115,
   "id": "02ac3b20",
   "metadata": {},
   "outputs": [
    {
     "data": {
      "text/plain": [
       "2"
      ]
     },
     "execution_count": 115,
     "metadata": {},
     "output_type": "execute_result"
    }
   ],
   "source": [
    "c[1]"
   ]
  },
  {
   "cell_type": "code",
   "execution_count": 116,
   "id": "41e49c9c",
   "metadata": {},
   "outputs": [
    {
     "data": {
      "text/plain": [
       "True"
      ]
     },
     "execution_count": 116,
     "metadata": {},
     "output_type": "execute_result"
    }
   ],
   "source": [
    "c[-3]"
   ]
  },
  {
   "cell_type": "code",
   "execution_count": 117,
   "id": "f1cc1848",
   "metadata": {},
   "outputs": [
    {
     "data": {
      "text/plain": [
       "['hello', 2, False, 'Module', True, 55, 60.0]"
      ]
     },
     "execution_count": 117,
     "metadata": {},
     "output_type": "execute_result"
    }
   ],
   "source": [
    "c[:] # sab lina pare "
   ]
  },
  {
   "cell_type": "code",
   "execution_count": 118,
   "id": "23f233a2",
   "metadata": {},
   "outputs": [
    {
     "data": {
      "text/plain": [
       "['Module', True, 55]"
      ]
     },
     "execution_count": 118,
     "metadata": {},
     "output_type": "execute_result"
    }
   ],
   "source": [
    "c[3:-1]"
   ]
  },
  {
   "cell_type": "code",
   "execution_count": 119,
   "id": "abf44b0e",
   "metadata": {},
   "outputs": [
    {
     "data": {
      "text/plain": [
       "['Module', True]"
      ]
     },
     "execution_count": 119,
     "metadata": {},
     "output_type": "execute_result"
    }
   ],
   "source": [
    "c[3:-2]"
   ]
  },
  {
   "cell_type": "code",
   "execution_count": 120,
   "id": "cbdbb580",
   "metadata": {},
   "outputs": [
    {
     "data": {
      "text/plain": [
       "[]"
      ]
     },
     "execution_count": 120,
     "metadata": {},
     "output_type": "execute_result"
    }
   ],
   "source": [
    "c[1:0]"
   ]
  },
  {
   "cell_type": "code",
   "execution_count": 121,
   "id": "c13deb07",
   "metadata": {},
   "outputs": [],
   "source": [
    "ad=100"
   ]
  },
  {
   "cell_type": "code",
   "execution_count": 122,
   "id": "9cc15397",
   "metadata": {},
   "outputs": [],
   "source": [
    "sum=ad+c[1] #if kai value elemnets bata add garnu cha bane"
   ]
  },
  {
   "cell_type": "code",
   "execution_count": 123,
   "id": "d1eee75e",
   "metadata": {},
   "outputs": [
    {
     "data": {
      "text/plain": [
       "102"
      ]
     },
     "execution_count": 123,
     "metadata": {},
     "output_type": "execute_result"
    }
   ],
   "source": [
    "sum"
   ]
  },
  {
   "cell_type": "code",
   "execution_count": 124,
   "id": "88a929f3",
   "metadata": {},
   "outputs": [],
   "source": [
    "## Elements of list can be changed "
   ]
  },
  {
   "cell_type": "code",
   "execution_count": 125,
   "id": "3a933b21",
   "metadata": {},
   "outputs": [
    {
     "data": {
      "text/plain": [
       "False"
      ]
     },
     "execution_count": 125,
     "metadata": {},
     "output_type": "execute_result"
    }
   ],
   "source": [
    "c[2]"
   ]
  },
  {
   "cell_type": "code",
   "execution_count": 126,
   "id": "d98c96fe",
   "metadata": {},
   "outputs": [],
   "source": [
    "c[2]='Nepali'"
   ]
  },
  {
   "cell_type": "code",
   "execution_count": 127,
   "id": "9839b198",
   "metadata": {},
   "outputs": [
    {
     "data": {
      "text/plain": [
       "['hello', 2, 'Nepali', 'Module', True, 55, 60.0]"
      ]
     },
     "execution_count": 127,
     "metadata": {},
     "output_type": "execute_result"
    }
   ],
   "source": [
    "c"
   ]
  },
  {
   "cell_type": "code",
   "execution_count": 128,
   "id": "79c9bcd0",
   "metadata": {},
   "outputs": [],
   "source": [
    "c[0:4]='Namaste','Lhakpa','love','Kathmandu'"
   ]
  },
  {
   "cell_type": "code",
   "execution_count": 129,
   "id": "77bf230c",
   "metadata": {},
   "outputs": [
    {
     "data": {
      "text/plain": [
       "['Namaste', 'Lhakpa', 'love', 'Kathmandu', True, 55, 60.0]"
      ]
     },
     "execution_count": 129,
     "metadata": {},
     "output_type": "execute_result"
    }
   ],
   "source": [
    "c"
   ]
  },
  {
   "cell_type": "code",
   "execution_count": 130,
   "id": "18052136",
   "metadata": {},
   "outputs": [],
   "source": [
    "c.insert(3,'Neemkaji') #bichma kunai thau ko position ma elemnet add garda,no value change "
   ]
  },
  {
   "cell_type": "code",
   "execution_count": 131,
   "id": "4aa34a59",
   "metadata": {},
   "outputs": [
    {
     "data": {
      "text/plain": [
       "['Namaste', 'Lhakpa', 'love', 'Neemkaji', 'Kathmandu', True, 55, 60.0]"
      ]
     },
     "execution_count": 131,
     "metadata": {},
     "output_type": "execute_result"
    }
   ],
   "source": [
    "c"
   ]
  },
  {
   "cell_type": "code",
   "execution_count": 132,
   "id": "36c21724",
   "metadata": {},
   "outputs": [],
   "source": [
    "c.append('Sherpa') #extra add garda last ma "
   ]
  },
  {
   "cell_type": "code",
   "execution_count": 133,
   "id": "f4b0b595",
   "metadata": {},
   "outputs": [
    {
     "data": {
      "text/plain": [
       "['Namaste',\n",
       " 'Lhakpa',\n",
       " 'love',\n",
       " 'Neemkaji',\n",
       " 'Kathmandu',\n",
       " True,\n",
       " 55,\n",
       " 60.0,\n",
       " 'Sherpa']"
      ]
     },
     "execution_count": 133,
     "metadata": {},
     "output_type": "execute_result"
    }
   ],
   "source": [
    "c"
   ]
  },
  {
   "cell_type": "code",
   "execution_count": 134,
   "id": "c6684d60",
   "metadata": {},
   "outputs": [],
   "source": [
    "c.append ('Tatopani')"
   ]
  },
  {
   "cell_type": "code",
   "execution_count": 135,
   "id": "dcb92bb7",
   "metadata": {},
   "outputs": [
    {
     "data": {
      "text/plain": [
       "['Namaste',\n",
       " 'Lhakpa',\n",
       " 'love',\n",
       " 'Neemkaji',\n",
       " 'Kathmandu',\n",
       " True,\n",
       " 55,\n",
       " 60.0,\n",
       " 'Sherpa',\n",
       " 'Tatopani']"
      ]
     },
     "execution_count": 135,
     "metadata": {},
     "output_type": "execute_result"
    }
   ],
   "source": [
    "c"
   ]
  },
  {
   "cell_type": "code",
   "execution_count": 136,
   "id": "b3379817",
   "metadata": {},
   "outputs": [],
   "source": [
    "c.extend(['Bhotekoshi','Tatopani'])"
   ]
  },
  {
   "cell_type": "code",
   "execution_count": 137,
   "id": "746974ef",
   "metadata": {},
   "outputs": [
    {
     "data": {
      "text/plain": [
       "['Namaste',\n",
       " 'Lhakpa',\n",
       " 'love',\n",
       " 'Neemkaji',\n",
       " 'Kathmandu',\n",
       " True,\n",
       " 55,\n",
       " 60.0,\n",
       " 'Sherpa',\n",
       " 'Tatopani',\n",
       " 'Bhotekoshi',\n",
       " 'Tatopani']"
      ]
     },
     "execution_count": 137,
     "metadata": {},
     "output_type": "execute_result"
    }
   ],
   "source": [
    "c"
   ]
  },
  {
   "cell_type": "code",
   "execution_count": 69,
   "id": "d4f35b42",
   "metadata": {},
   "outputs": [],
   "source": [
    "#If purai hatauna pare eg lhakpa "
   ]
  },
  {
   "cell_type": "code",
   "execution_count": 139,
   "id": "f32449ee",
   "metadata": {},
   "outputs": [],
   "source": [
    "c.remove('Lhakpa')"
   ]
  },
  {
   "cell_type": "code",
   "execution_count": 140,
   "id": "d11156ec",
   "metadata": {},
   "outputs": [
    {
     "data": {
      "text/plain": [
       "['Namaste',\n",
       " 'love',\n",
       " 'Neemkaji',\n",
       " 'Kathmandu',\n",
       " True,\n",
       " 55,\n",
       " 60.0,\n",
       " 'Sherpa',\n",
       " 'Tatopani',\n",
       " 'Bhotekoshi',\n",
       " 'Tatopani']"
      ]
     },
     "execution_count": 140,
     "metadata": {},
     "output_type": "execute_result"
    }
   ],
   "source": [
    "c"
   ]
  },
  {
   "cell_type": "code",
   "execution_count": 141,
   "id": "fe62cc50",
   "metadata": {},
   "outputs": [
    {
     "data": {
      "text/plain": [
       "'Tatopani'"
      ]
     },
     "execution_count": 141,
     "metadata": {},
     "output_type": "execute_result"
    }
   ],
   "source": [
    "c.pop() #yo garda last ko element delete huncha"
   ]
  },
  {
   "cell_type": "code",
   "execution_count": 74,
   "id": "91f98373",
   "metadata": {},
   "outputs": [],
   "source": [
    "#if single value hatauna pare"
   ]
  },
  {
   "cell_type": "code",
   "execution_count": 145,
   "id": "82fb28de",
   "metadata": {},
   "outputs": [
    {
     "data": {
      "text/plain": [
       "'Tatopani'"
      ]
     },
     "execution_count": 145,
     "metadata": {},
     "output_type": "execute_result"
    }
   ],
   "source": [
    "c.pop(6)"
   ]
  },
  {
   "cell_type": "code",
   "execution_count": 77,
   "id": "d1e3db97",
   "metadata": {},
   "outputs": [],
   "source": [
    "#anotherway"
   ]
  },
  {
   "cell_type": "code",
   "execution_count": 149,
   "id": "153799db",
   "metadata": {},
   "outputs": [],
   "source": [
    "del c[5]"
   ]
  },
  {
   "cell_type": "code",
   "execution_count": 150,
   "id": "4980aca7",
   "metadata": {},
   "outputs": [
    {
     "data": {
      "text/plain": [
       "['Namaste', 'Neemkaji', 'Kathmandu', 60.0, 'Sherpa']"
      ]
     },
     "execution_count": 150,
     "metadata": {},
     "output_type": "execute_result"
    }
   ],
   "source": [
    "c"
   ]
  },
  {
   "cell_type": "code",
   "execution_count": 82,
   "id": "6fbd5b39",
   "metadata": {},
   "outputs": [],
   "source": [
    "#duplication of value process"
   ]
  },
  {
   "cell_type": "code",
   "execution_count": 152,
   "id": "ff2baa32",
   "metadata": {},
   "outputs": [],
   "source": [
    "c=['Namaste', 'Lhakpa', 'love', 'Neemkaji', 'Kathmandu', True, 55, 60.0]"
   ]
  },
  {
   "cell_type": "code",
   "execution_count": 153,
   "id": "ba572ebf",
   "metadata": {},
   "outputs": [],
   "source": [
    "d=c"
   ]
  },
  {
   "cell_type": "code",
   "execution_count": 154,
   "id": "e2ebdcd8",
   "metadata": {},
   "outputs": [
    {
     "data": {
      "text/plain": [
       "['Namaste', 'Lhakpa', 'love', 'Neemkaji', 'Kathmandu', True, 55, 60.0]"
      ]
     },
     "execution_count": 154,
     "metadata": {},
     "output_type": "execute_result"
    }
   ],
   "source": [
    "d"
   ]
  },
  {
   "cell_type": "code",
   "execution_count": 163,
   "id": "b541f8d8",
   "metadata": {},
   "outputs": [],
   "source": [
    "del c"
   ]
  },
  {
   "cell_type": "code",
   "execution_count": 89,
   "id": "3e7da526",
   "metadata": {},
   "outputs": [
    {
     "ename": "NameError",
     "evalue": "name 'c' is not defined",
     "output_type": "error",
     "traceback": [
      "\u001b[0;31m---------------------------------------------------------------------------\u001b[0m",
      "\u001b[0;31mNameError\u001b[0m                                 Traceback (most recent call last)",
      "Cell \u001b[0;32mIn[89], line 1\u001b[0m\n\u001b[0;32m----> 1\u001b[0m c\n",
      "\u001b[0;31mNameError\u001b[0m: name 'c' is not defined"
     ]
    }
   ],
   "source": [
    "c #this means c ko value ahba chaina+whole variable nai delete"
   ]
  },
  {
   "cell_type": "code",
   "execution_count": 155,
   "id": "689a1d7f",
   "metadata": {},
   "outputs": [],
   "source": [
    "d.clear()   #bitra ko value matra delete "
   ]
  },
  {
   "cell_type": "code",
   "execution_count": 156,
   "id": "366faf67",
   "metadata": {},
   "outputs": [
    {
     "data": {
      "text/plain": [
       "[]"
      ]
     },
     "execution_count": 156,
     "metadata": {},
     "output_type": "execute_result"
    }
   ],
   "source": [
    "d"
   ]
  },
  {
   "cell_type": "code",
   "execution_count": 159,
   "id": "ce3505f7",
   "metadata": {},
   "outputs": [],
   "source": [
    "z= ['SWAYAMBHU',False, 'Boudha',20,50]"
   ]
  },
  {
   "cell_type": "code",
   "execution_count": 160,
   "id": "940e7ba9",
   "metadata": {},
   "outputs": [
    {
     "data": {
      "text/plain": [
       "['SWAYAMBHU', False, 'Boudha', 20, 50]"
      ]
     },
     "execution_count": 160,
     "metadata": {},
     "output_type": "execute_result"
    }
   ],
   "source": [
    "z"
   ]
  },
  {
   "cell_type": "code",
   "execution_count": 161,
   "id": "d21694cf",
   "metadata": {},
   "outputs": [
    {
     "name": "stdout",
     "output_type": "stream",
     "text": [
      "SWAYAMBHU\n",
      "False\n",
      "Boudha\n",
      "20\n",
      "50\n"
     ]
    }
   ],
   "source": [
    "for i in z:\n",
    "    print(i)"
   ]
  },
  {
   "cell_type": "code",
   "execution_count": 162,
   "id": "8f729041",
   "metadata": {},
   "outputs": [
    {
     "name": "stdout",
     "output_type": "stream",
     "text": [
      "SWAYAMBHU\n",
      "False\n",
      "Boudha\n",
      "20\n",
      "50\n"
     ]
    }
   ],
   "source": [
    "for element in z:\n",
    "    print(element)"
   ]
  },
  {
   "cell_type": "code",
   "execution_count": 163,
   "id": "0716b4a0",
   "metadata": {},
   "outputs": [
    {
     "name": "stdout",
     "output_type": "stream",
     "text": [
      "SWAYAMBHU\n",
      "False\n",
      "Boudha\n",
      "20\n",
      "50\n"
     ]
    }
   ],
   "source": [
    "for z in z:\n",
    "    print(z)"
   ]
  },
  {
   "cell_type": "code",
   "execution_count": 164,
   "id": "70d33acb",
   "metadata": {},
   "outputs": [
    {
     "ename": "AttributeError",
     "evalue": "'int' object has no attribute 'sort'",
     "output_type": "error",
     "traceback": [
      "\u001b[0;31m---------------------------------------------------------------------------\u001b[0m",
      "\u001b[0;31mAttributeError\u001b[0m                            Traceback (most recent call last)",
      "Cell \u001b[0;32mIn[164], line 1\u001b[0m\n\u001b[0;32m----> 1\u001b[0m z\u001b[38;5;241m.\u001b[39msort()\n",
      "\u001b[0;31mAttributeError\u001b[0m: 'int' object has no attribute 'sort'"
     ]
    }
   ],
   "source": [
    "z.sort()"
   ]
  },
  {
   "cell_type": "code",
   "execution_count": 98,
   "id": "e536a102",
   "metadata": {},
   "outputs": [],
   "source": [
    "## other methods"
   ]
  },
  {
   "cell_type": "code",
   "execution_count": 33,
   "id": "9e0a966b",
   "metadata": {},
   "outputs": [],
   "source": [
    "j=[145,23,567,4567,34576,54,1,333]"
   ]
  },
  {
   "cell_type": "code",
   "execution_count": 34,
   "id": "927b94fe",
   "metadata": {},
   "outputs": [],
   "source": [
    "j.sort()"
   ]
  },
  {
   "cell_type": "code",
   "execution_count": 35,
   "id": "e768519a",
   "metadata": {},
   "outputs": [
    {
     "data": {
      "text/plain": [
       "[1, 23, 54, 145, 333, 567, 4567, 34576]"
      ]
     },
     "execution_count": 35,
     "metadata": {},
     "output_type": "execute_result"
    }
   ],
   "source": [
    "j"
   ]
  },
  {
   "cell_type": "code",
   "execution_count": 36,
   "id": "e0bdca0f",
   "metadata": {},
   "outputs": [],
   "source": [
    "j.sort(reverse=True) #decending order"
   ]
  },
  {
   "cell_type": "code",
   "execution_count": 37,
   "id": "749907a2",
   "metadata": {},
   "outputs": [
    {
     "data": {
      "text/plain": [
       "[34576, 4567, 567, 333, 145, 54, 23, 1]"
      ]
     },
     "execution_count": 37,
     "metadata": {},
     "output_type": "execute_result"
    }
   ],
   "source": [
    "j"
   ]
  },
  {
   "cell_type": "code",
   "execution_count": 38,
   "id": "e20d5826",
   "metadata": {},
   "outputs": [],
   "source": [
    "j.sort(reverse=False) #ascending order same as j.sort()"
   ]
  },
  {
   "cell_type": "code",
   "execution_count": 39,
   "id": "be3e80e1",
   "metadata": {},
   "outputs": [
    {
     "data": {
      "text/plain": [
       "[1, 23, 54, 145, 333, 567, 4567, 34576]"
      ]
     },
     "execution_count": 39,
     "metadata": {},
     "output_type": "execute_result"
    }
   ],
   "source": [
    "j"
   ]
  },
  {
   "cell_type": "code",
   "execution_count": 40,
   "id": "6f3483f7",
   "metadata": {},
   "outputs": [],
   "source": [
    "cp=j.copy()"
   ]
  },
  {
   "cell_type": "code",
   "execution_count": 41,
   "id": "54685936",
   "metadata": {},
   "outputs": [
    {
     "data": {
      "text/plain": [
       "[1, 23, 54, 145, 333, 567, 4567, 34576]"
      ]
     },
     "execution_count": 41,
     "metadata": {},
     "output_type": "execute_result"
    }
   ],
   "source": [
    "cp"
   ]
  },
  {
   "cell_type": "code",
   "execution_count": 42,
   "id": "7e86e235",
   "metadata": {},
   "outputs": [],
   "source": [
    "cs=j"
   ]
  },
  {
   "cell_type": "code",
   "execution_count": 43,
   "id": "4718c14e",
   "metadata": {},
   "outputs": [
    {
     "data": {
      "text/plain": [
       "[1, 23, 54, 145, 333, 567, 4567, 34576]"
      ]
     },
     "execution_count": 43,
     "metadata": {},
     "output_type": "execute_result"
    }
   ],
   "source": [
    "cs"
   ]
  },
  {
   "cell_type": "code",
   "execution_count": 44,
   "id": "45568823",
   "metadata": {},
   "outputs": [
    {
     "data": {
      "text/plain": [
       "34576"
      ]
     },
     "execution_count": 44,
     "metadata": {},
     "output_type": "execute_result"
    }
   ],
   "source": [
    "j.pop()"
   ]
  },
  {
   "cell_type": "code",
   "execution_count": 45,
   "id": "8d4bf247",
   "metadata": {},
   "outputs": [
    {
     "data": {
      "text/plain": [
       "[1, 23, 54, 145, 333, 567, 4567]"
      ]
     },
     "execution_count": 45,
     "metadata": {},
     "output_type": "execute_result"
    }
   ],
   "source": [
    "cs"
   ]
  },
  {
   "cell_type": "code",
   "execution_count": 46,
   "id": "722212c4",
   "metadata": {},
   "outputs": [
    {
     "data": {
      "text/plain": [
       "[1, 23, 54, 145, 333, 567, 4567, 34576]"
      ]
     },
     "execution_count": 46,
     "metadata": {},
     "output_type": "execute_result"
    }
   ],
   "source": [
    "cp"
   ]
  },
  {
   "cell_type": "code",
   "execution_count": 47,
   "id": "876f18bf",
   "metadata": {},
   "outputs": [
    {
     "data": {
      "text/plain": [
       "[1, 23, 54, 145, 333, 567, 4567, 1, 23, 54, 145, 333, 567, 4567, 34576]"
      ]
     },
     "execution_count": 47,
     "metadata": {},
     "output_type": "execute_result"
    }
   ],
   "source": [
    "cs+cp"
   ]
  },
  {
   "cell_type": "code",
   "execution_count": 48,
   "id": "f0a4a8e6",
   "metadata": {},
   "outputs": [
    {
     "ename": "TypeError",
     "evalue": "unsupported operand type(s) for -: 'list' and 'list'",
     "output_type": "error",
     "traceback": [
      "\u001b[0;31m---------------------------------------------------------------------------\u001b[0m",
      "\u001b[0;31mTypeError\u001b[0m                                 Traceback (most recent call last)",
      "Cell \u001b[0;32mIn[48], line 1\u001b[0m\n\u001b[0;32m----> 1\u001b[0m cs\u001b[38;5;241m-\u001b[39mcp\n",
      "\u001b[0;31mTypeError\u001b[0m: unsupported operand type(s) for -: 'list' and 'list'"
     ]
    }
   ],
   "source": [
    "cs-cp"
   ]
  },
  {
   "cell_type": "code",
   "execution_count": 49,
   "id": "6d5ba215",
   "metadata": {},
   "outputs": [
    {
     "data": {
      "text/plain": [
       "[1,\n",
       " 23,\n",
       " 54,\n",
       " 145,\n",
       " 333,\n",
       " 567,\n",
       " 4567,\n",
       " 34576,\n",
       " 1,\n",
       " 23,\n",
       " 54,\n",
       " 145,\n",
       " 333,\n",
       " 567,\n",
       " 4567,\n",
       " 34576,\n",
       " 1,\n",
       " 23,\n",
       " 54,\n",
       " 145,\n",
       " 333,\n",
       " 567,\n",
       " 4567,\n",
       " 34576,\n",
       " 1,\n",
       " 23,\n",
       " 54,\n",
       " 145,\n",
       " 333,\n",
       " 567,\n",
       " 4567,\n",
       " 34576,\n",
       " 1,\n",
       " 23,\n",
       " 54,\n",
       " 145,\n",
       " 333,\n",
       " 567,\n",
       " 4567,\n",
       " 34576,\n",
       " 1,\n",
       " 23,\n",
       " 54,\n",
       " 145,\n",
       " 333,\n",
       " 567,\n",
       " 4567,\n",
       " 34576,\n",
       " 1,\n",
       " 23,\n",
       " 54,\n",
       " 145,\n",
       " 333,\n",
       " 567,\n",
       " 4567,\n",
       " 34576,\n",
       " 1,\n",
       " 23,\n",
       " 54,\n",
       " 145,\n",
       " 333,\n",
       " 567,\n",
       " 4567,\n",
       " 34576,\n",
       " 1,\n",
       " 23,\n",
       " 54,\n",
       " 145,\n",
       " 333,\n",
       " 567,\n",
       " 4567,\n",
       " 34576,\n",
       " 1,\n",
       " 23,\n",
       " 54,\n",
       " 145,\n",
       " 333,\n",
       " 567,\n",
       " 4567,\n",
       " 34576,\n",
       " 1,\n",
       " 23,\n",
       " 54,\n",
       " 145,\n",
       " 333,\n",
       " 567,\n",
       " 4567,\n",
       " 34576,\n",
       " 1,\n",
       " 23,\n",
       " 54,\n",
       " 145,\n",
       " 333,\n",
       " 567,\n",
       " 4567,\n",
       " 34576,\n",
       " 1,\n",
       " 23,\n",
       " 54,\n",
       " 145,\n",
       " 333,\n",
       " 567,\n",
       " 4567,\n",
       " 34576,\n",
       " 1,\n",
       " 23,\n",
       " 54,\n",
       " 145,\n",
       " 333,\n",
       " 567,\n",
       " 4567,\n",
       " 34576,\n",
       " 1,\n",
       " 23,\n",
       " 54,\n",
       " 145,\n",
       " 333,\n",
       " 567,\n",
       " 4567,\n",
       " 34576,\n",
       " 1,\n",
       " 23,\n",
       " 54,\n",
       " 145,\n",
       " 333,\n",
       " 567,\n",
       " 4567,\n",
       " 34576,\n",
       " 1,\n",
       " 23,\n",
       " 54,\n",
       " 145,\n",
       " 333,\n",
       " 567,\n",
       " 4567,\n",
       " 34576,\n",
       " 1,\n",
       " 23,\n",
       " 54,\n",
       " 145,\n",
       " 333,\n",
       " 567,\n",
       " 4567,\n",
       " 34576,\n",
       " 1,\n",
       " 23,\n",
       " 54,\n",
       " 145,\n",
       " 333,\n",
       " 567,\n",
       " 4567,\n",
       " 34576,\n",
       " 1,\n",
       " 23,\n",
       " 54,\n",
       " 145,\n",
       " 333,\n",
       " 567,\n",
       " 4567,\n",
       " 34576,\n",
       " 1,\n",
       " 23,\n",
       " 54,\n",
       " 145,\n",
       " 333,\n",
       " 567,\n",
       " 4567,\n",
       " 34576,\n",
       " 1,\n",
       " 23,\n",
       " 54,\n",
       " 145,\n",
       " 333,\n",
       " 567,\n",
       " 4567,\n",
       " 34576,\n",
       " 1,\n",
       " 23,\n",
       " 54,\n",
       " 145,\n",
       " 333,\n",
       " 567,\n",
       " 4567,\n",
       " 34576,\n",
       " 1,\n",
       " 23,\n",
       " 54,\n",
       " 145,\n",
       " 333,\n",
       " 567,\n",
       " 4567,\n",
       " 34576,\n",
       " 1,\n",
       " 23,\n",
       " 54,\n",
       " 145,\n",
       " 333,\n",
       " 567,\n",
       " 4567,\n",
       " 34576,\n",
       " 1,\n",
       " 23,\n",
       " 54,\n",
       " 145,\n",
       " 333,\n",
       " 567,\n",
       " 4567,\n",
       " 34576,\n",
       " 1,\n",
       " 23,\n",
       " 54,\n",
       " 145,\n",
       " 333,\n",
       " 567,\n",
       " 4567,\n",
       " 34576,\n",
       " 1,\n",
       " 23,\n",
       " 54,\n",
       " 145,\n",
       " 333,\n",
       " 567,\n",
       " 4567,\n",
       " 34576,\n",
       " 1,\n",
       " 23,\n",
       " 54,\n",
       " 145,\n",
       " 333,\n",
       " 567,\n",
       " 4567,\n",
       " 34576,\n",
       " 1,\n",
       " 23,\n",
       " 54,\n",
       " 145,\n",
       " 333,\n",
       " 567,\n",
       " 4567,\n",
       " 34576,\n",
       " 1,\n",
       " 23,\n",
       " 54,\n",
       " 145,\n",
       " 333,\n",
       " 567,\n",
       " 4567,\n",
       " 34576,\n",
       " 1,\n",
       " 23,\n",
       " 54,\n",
       " 145,\n",
       " 333,\n",
       " 567,\n",
       " 4567,\n",
       " 34576,\n",
       " 1,\n",
       " 23,\n",
       " 54,\n",
       " 145,\n",
       " 333,\n",
       " 567,\n",
       " 4567,\n",
       " 34576,\n",
       " 1,\n",
       " 23,\n",
       " 54,\n",
       " 145,\n",
       " 333,\n",
       " 567,\n",
       " 4567,\n",
       " 34576,\n",
       " 1,\n",
       " 23,\n",
       " 54,\n",
       " 145,\n",
       " 333,\n",
       " 567,\n",
       " 4567,\n",
       " 34576,\n",
       " 1,\n",
       " 23,\n",
       " 54,\n",
       " 145,\n",
       " 333,\n",
       " 567,\n",
       " 4567,\n",
       " 34576,\n",
       " 1,\n",
       " 23,\n",
       " 54,\n",
       " 145,\n",
       " 333,\n",
       " 567,\n",
       " 4567,\n",
       " 34576,\n",
       " 1,\n",
       " 23,\n",
       " 54,\n",
       " 145,\n",
       " 333,\n",
       " 567,\n",
       " 4567,\n",
       " 34576,\n",
       " 1,\n",
       " 23,\n",
       " 54,\n",
       " 145,\n",
       " 333,\n",
       " 567,\n",
       " 4567,\n",
       " 34576,\n",
       " 1,\n",
       " 23,\n",
       " 54,\n",
       " 145,\n",
       " 333,\n",
       " 567,\n",
       " 4567,\n",
       " 34576,\n",
       " 1,\n",
       " 23,\n",
       " 54,\n",
       " 145,\n",
       " 333,\n",
       " 567,\n",
       " 4567,\n",
       " 34576,\n",
       " 1,\n",
       " 23,\n",
       " 54,\n",
       " 145,\n",
       " 333,\n",
       " 567,\n",
       " 4567,\n",
       " 34576,\n",
       " 1,\n",
       " 23,\n",
       " 54,\n",
       " 145,\n",
       " 333,\n",
       " 567,\n",
       " 4567,\n",
       " 34576,\n",
       " 1,\n",
       " 23,\n",
       " 54,\n",
       " 145,\n",
       " 333,\n",
       " 567,\n",
       " 4567,\n",
       " 34576,\n",
       " 1,\n",
       " 23,\n",
       " 54,\n",
       " 145,\n",
       " 333,\n",
       " 567,\n",
       " 4567,\n",
       " 34576,\n",
       " 1,\n",
       " 23,\n",
       " 54,\n",
       " 145,\n",
       " 333,\n",
       " 567,\n",
       " 4567,\n",
       " 34576,\n",
       " 1,\n",
       " 23,\n",
       " 54,\n",
       " 145,\n",
       " 333,\n",
       " 567,\n",
       " 4567,\n",
       " 34576,\n",
       " 1,\n",
       " 23,\n",
       " 54,\n",
       " 145,\n",
       " 333,\n",
       " 567,\n",
       " 4567,\n",
       " 34576,\n",
       " 1,\n",
       " 23,\n",
       " 54,\n",
       " 145,\n",
       " 333,\n",
       " 567,\n",
       " 4567,\n",
       " 34576,\n",
       " 1,\n",
       " 23,\n",
       " 54,\n",
       " 145,\n",
       " 333,\n",
       " 567,\n",
       " 4567,\n",
       " 34576,\n",
       " 1,\n",
       " 23,\n",
       " 54,\n",
       " 145,\n",
       " 333,\n",
       " 567,\n",
       " 4567,\n",
       " 34576,\n",
       " 1,\n",
       " 23,\n",
       " 54,\n",
       " 145,\n",
       " 333,\n",
       " 567,\n",
       " 4567,\n",
       " 34576,\n",
       " 1,\n",
       " 23,\n",
       " 54,\n",
       " 145,\n",
       " 333,\n",
       " 567,\n",
       " 4567,\n",
       " 34576,\n",
       " 1,\n",
       " 23,\n",
       " 54,\n",
       " 145,\n",
       " 333,\n",
       " 567,\n",
       " 4567,\n",
       " 34576,\n",
       " 1,\n",
       " 23,\n",
       " 54,\n",
       " 145,\n",
       " 333,\n",
       " 567,\n",
       " 4567,\n",
       " 34576,\n",
       " 1,\n",
       " 23,\n",
       " 54,\n",
       " 145,\n",
       " 333,\n",
       " 567,\n",
       " 4567,\n",
       " 34576,\n",
       " 1,\n",
       " 23,\n",
       " 54,\n",
       " 145,\n",
       " 333,\n",
       " 567,\n",
       " 4567,\n",
       " 34576,\n",
       " 1,\n",
       " 23,\n",
       " 54,\n",
       " 145,\n",
       " 333,\n",
       " 567,\n",
       " 4567,\n",
       " 34576,\n",
       " 1,\n",
       " 23,\n",
       " 54,\n",
       " 145,\n",
       " 333,\n",
       " 567,\n",
       " 4567,\n",
       " 34576,\n",
       " 1,\n",
       " 23,\n",
       " 54,\n",
       " 145,\n",
       " 333,\n",
       " 567,\n",
       " 4567,\n",
       " 34576,\n",
       " 1,\n",
       " 23,\n",
       " 54,\n",
       " 145,\n",
       " 333,\n",
       " 567,\n",
       " 4567,\n",
       " 34576,\n",
       " 1,\n",
       " 23,\n",
       " 54,\n",
       " 145,\n",
       " 333,\n",
       " 567,\n",
       " 4567,\n",
       " 34576,\n",
       " 1,\n",
       " 23,\n",
       " 54,\n",
       " 145,\n",
       " 333,\n",
       " 567,\n",
       " 4567,\n",
       " 34576,\n",
       " 1,\n",
       " 23,\n",
       " 54,\n",
       " 145,\n",
       " 333,\n",
       " 567,\n",
       " 4567,\n",
       " 34576,\n",
       " 1,\n",
       " 23,\n",
       " 54,\n",
       " 145,\n",
       " 333,\n",
       " 567,\n",
       " 4567,\n",
       " 34576,\n",
       " 1,\n",
       " 23,\n",
       " 54,\n",
       " 145,\n",
       " 333,\n",
       " 567,\n",
       " 4567,\n",
       " 34576,\n",
       " 1,\n",
       " 23,\n",
       " 54,\n",
       " 145,\n",
       " 333,\n",
       " 567,\n",
       " 4567,\n",
       " 34576,\n",
       " 1,\n",
       " 23,\n",
       " 54,\n",
       " 145,\n",
       " 333,\n",
       " 567,\n",
       " 4567,\n",
       " 34576,\n",
       " 1,\n",
       " 23,\n",
       " 54,\n",
       " 145,\n",
       " 333,\n",
       " 567,\n",
       " 4567,\n",
       " 34576,\n",
       " 1,\n",
       " 23,\n",
       " 54,\n",
       " 145,\n",
       " 333,\n",
       " 567,\n",
       " 4567,\n",
       " 34576,\n",
       " 1,\n",
       " 23,\n",
       " 54,\n",
       " 145,\n",
       " 333,\n",
       " 567,\n",
       " 4567,\n",
       " 34576,\n",
       " 1,\n",
       " 23,\n",
       " 54,\n",
       " 145,\n",
       " 333,\n",
       " 567,\n",
       " 4567,\n",
       " 34576,\n",
       " 1,\n",
       " 23,\n",
       " 54,\n",
       " 145,\n",
       " 333,\n",
       " 567,\n",
       " 4567,\n",
       " 34576,\n",
       " 1,\n",
       " 23,\n",
       " 54,\n",
       " 145,\n",
       " 333,\n",
       " 567,\n",
       " 4567,\n",
       " 34576,\n",
       " 1,\n",
       " 23,\n",
       " 54,\n",
       " 145,\n",
       " 333,\n",
       " 567,\n",
       " 4567,\n",
       " 34576,\n",
       " 1,\n",
       " 23,\n",
       " 54,\n",
       " 145,\n",
       " 333,\n",
       " 567,\n",
       " 4567,\n",
       " 34576,\n",
       " 1,\n",
       " 23,\n",
       " 54,\n",
       " 145,\n",
       " 333,\n",
       " 567,\n",
       " 4567,\n",
       " 34576,\n",
       " 1,\n",
       " 23,\n",
       " 54,\n",
       " 145,\n",
       " 333,\n",
       " 567,\n",
       " 4567,\n",
       " 34576,\n",
       " 1,\n",
       " 23,\n",
       " 54,\n",
       " 145,\n",
       " 333,\n",
       " 567,\n",
       " 4567,\n",
       " 34576,\n",
       " 1,\n",
       " 23,\n",
       " 54,\n",
       " 145,\n",
       " 333,\n",
       " 567,\n",
       " 4567,\n",
       " 34576,\n",
       " 1,\n",
       " 23,\n",
       " 54,\n",
       " 145,\n",
       " 333,\n",
       " 567,\n",
       " 4567,\n",
       " 34576,\n",
       " 1,\n",
       " 23,\n",
       " 54,\n",
       " 145,\n",
       " 333,\n",
       " 567,\n",
       " 4567,\n",
       " 34576,\n",
       " 1,\n",
       " 23,\n",
       " 54,\n",
       " 145,\n",
       " 333,\n",
       " 567,\n",
       " 4567,\n",
       " 34576,\n",
       " 1,\n",
       " 23,\n",
       " 54,\n",
       " 145,\n",
       " 333,\n",
       " 567,\n",
       " 4567,\n",
       " 34576,\n",
       " 1,\n",
       " 23,\n",
       " 54,\n",
       " 145,\n",
       " 333,\n",
       " 567,\n",
       " 4567,\n",
       " 34576,\n",
       " 1,\n",
       " 23,\n",
       " 54,\n",
       " 145,\n",
       " 333,\n",
       " 567,\n",
       " 4567,\n",
       " 34576,\n",
       " 1,\n",
       " 23,\n",
       " 54,\n",
       " 145,\n",
       " 333,\n",
       " 567,\n",
       " 4567,\n",
       " 34576,\n",
       " 1,\n",
       " 23,\n",
       " 54,\n",
       " 145,\n",
       " 333,\n",
       " 567,\n",
       " 4567,\n",
       " 34576,\n",
       " 1,\n",
       " 23,\n",
       " 54,\n",
       " 145,\n",
       " 333,\n",
       " 567,\n",
       " 4567,\n",
       " 34576,\n",
       " 1,\n",
       " 23,\n",
       " 54,\n",
       " 145,\n",
       " 333,\n",
       " 567,\n",
       " 4567,\n",
       " 34576,\n",
       " 1,\n",
       " 23,\n",
       " 54,\n",
       " 145,\n",
       " 333,\n",
       " 567,\n",
       " 4567,\n",
       " 34576,\n",
       " 1,\n",
       " 23,\n",
       " 54,\n",
       " 145,\n",
       " 333,\n",
       " 567,\n",
       " 4567,\n",
       " 34576,\n",
       " 1,\n",
       " 23,\n",
       " 54,\n",
       " 145,\n",
       " 333,\n",
       " 567,\n",
       " 4567,\n",
       " 34576,\n",
       " 1,\n",
       " 23,\n",
       " 54,\n",
       " 145,\n",
       " 333,\n",
       " 567,\n",
       " 4567,\n",
       " 34576,\n",
       " 1,\n",
       " 23,\n",
       " 54,\n",
       " 145,\n",
       " 333,\n",
       " 567,\n",
       " 4567,\n",
       " 34576,\n",
       " 1,\n",
       " 23,\n",
       " 54,\n",
       " 145,\n",
       " 333,\n",
       " 567,\n",
       " 4567,\n",
       " 34576,\n",
       " 1,\n",
       " 23,\n",
       " 54,\n",
       " 145,\n",
       " 333,\n",
       " 567,\n",
       " 4567,\n",
       " 34576,\n",
       " 1,\n",
       " 23,\n",
       " 54,\n",
       " 145,\n",
       " 333,\n",
       " 567,\n",
       " 4567,\n",
       " 34576,\n",
       " 1,\n",
       " 23,\n",
       " 54,\n",
       " 145,\n",
       " 333,\n",
       " 567,\n",
       " 4567,\n",
       " 34576,\n",
       " 1,\n",
       " 23,\n",
       " 54,\n",
       " 145,\n",
       " 333,\n",
       " 567,\n",
       " 4567,\n",
       " 34576,\n",
       " 1,\n",
       " 23,\n",
       " 54,\n",
       " 145,\n",
       " 333,\n",
       " 567,\n",
       " 4567,\n",
       " 34576,\n",
       " 1,\n",
       " 23,\n",
       " 54,\n",
       " 145,\n",
       " 333,\n",
       " 567,\n",
       " 4567,\n",
       " 34576,\n",
       " 1,\n",
       " 23,\n",
       " 54,\n",
       " 145,\n",
       " 333,\n",
       " 567,\n",
       " 4567,\n",
       " 34576,\n",
       " 1,\n",
       " 23,\n",
       " 54,\n",
       " 145,\n",
       " 333,\n",
       " 567,\n",
       " 4567,\n",
       " 34576,\n",
       " 1,\n",
       " 23,\n",
       " 54,\n",
       " 145,\n",
       " 333,\n",
       " 567,\n",
       " 4567,\n",
       " 34576,\n",
       " 1,\n",
       " 23,\n",
       " 54,\n",
       " 145,\n",
       " 333,\n",
       " 567,\n",
       " 4567,\n",
       " 34576,\n",
       " 1,\n",
       " 23,\n",
       " 54,\n",
       " 145,\n",
       " 333,\n",
       " 567,\n",
       " 4567,\n",
       " 34576,\n",
       " 1,\n",
       " 23,\n",
       " 54,\n",
       " 145,\n",
       " 333,\n",
       " 567,\n",
       " 4567,\n",
       " 34576,\n",
       " 1,\n",
       " 23,\n",
       " 54,\n",
       " 145,\n",
       " 333,\n",
       " 567,\n",
       " 4567,\n",
       " 34576,\n",
       " 1,\n",
       " 23,\n",
       " 54,\n",
       " 145,\n",
       " 333,\n",
       " 567,\n",
       " 4567,\n",
       " 34576,\n",
       " 1,\n",
       " 23,\n",
       " 54,\n",
       " 145,\n",
       " 333,\n",
       " 567,\n",
       " 4567,\n",
       " 34576,\n",
       " 1,\n",
       " 23,\n",
       " 54,\n",
       " 145,\n",
       " 333,\n",
       " 567,\n",
       " 4567,\n",
       " 34576,\n",
       " 1,\n",
       " 23,\n",
       " 54,\n",
       " 145,\n",
       " 333,\n",
       " 567,\n",
       " 4567,\n",
       " 34576,\n",
       " 1,\n",
       " 23,\n",
       " 54,\n",
       " 145,\n",
       " 333,\n",
       " 567,\n",
       " 4567,\n",
       " 34576,\n",
       " 1,\n",
       " 23,\n",
       " 54,\n",
       " 145,\n",
       " 333,\n",
       " 567,\n",
       " 4567,\n",
       " 34576,\n",
       " 1,\n",
       " 23,\n",
       " 54,\n",
       " 145,\n",
       " 333,\n",
       " 567,\n",
       " 4567,\n",
       " 34576,\n",
       " 1,\n",
       " 23,\n",
       " 54,\n",
       " 145,\n",
       " 333,\n",
       " 567,\n",
       " 4567,\n",
       " 34576,\n",
       " 1,\n",
       " 23,\n",
       " 54,\n",
       " 145,\n",
       " 333,\n",
       " 567,\n",
       " 4567,\n",
       " 34576,\n",
       " 1,\n",
       " 23,\n",
       " 54,\n",
       " 145,\n",
       " 333,\n",
       " 567,\n",
       " 4567,\n",
       " 34576,\n",
       " 1,\n",
       " 23,\n",
       " 54,\n",
       " 145,\n",
       " 333,\n",
       " 567,\n",
       " 4567,\n",
       " 34576,\n",
       " 1,\n",
       " 23,\n",
       " 54,\n",
       " 145,\n",
       " 333,\n",
       " 567,\n",
       " 4567,\n",
       " 34576,\n",
       " 1,\n",
       " 23,\n",
       " 54,\n",
       " 145,\n",
       " 333,\n",
       " 567,\n",
       " 4567,\n",
       " 34576,\n",
       " 1,\n",
       " 23,\n",
       " 54,\n",
       " 145,\n",
       " 333,\n",
       " 567,\n",
       " 4567,\n",
       " 34576,\n",
       " 1,\n",
       " 23,\n",
       " 54,\n",
       " 145,\n",
       " 333,\n",
       " 567,\n",
       " 4567,\n",
       " 34576,\n",
       " 1,\n",
       " 23,\n",
       " 54,\n",
       " 145,\n",
       " 333,\n",
       " 567,\n",
       " 4567,\n",
       " 34576,\n",
       " ...]"
      ]
     },
     "execution_count": 49,
     "metadata": {},
     "output_type": "execute_result"
    }
   ],
   "source": [
    "cp*130 #SAB VALUE LAI 130 CHOTI MULTIPLY BHAYO "
   ]
  },
  {
   "cell_type": "code",
   "execution_count": 50,
   "id": "e5a6155e",
   "metadata": {},
   "outputs": [],
   "source": [
    "cs.extend(cp)"
   ]
  },
  {
   "cell_type": "code",
   "execution_count": 51,
   "id": "46546d26",
   "metadata": {},
   "outputs": [
    {
     "data": {
      "text/plain": [
       "[1, 23, 54, 145, 333, 567, 4567, 1, 23, 54, 145, 333, 567, 4567, 34576]"
      ]
     },
     "execution_count": 51,
     "metadata": {},
     "output_type": "execute_result"
    }
   ],
   "source": [
    "cs"
   ]
  },
  {
   "cell_type": "code",
   "execution_count": 52,
   "id": "8bdacae2",
   "metadata": {},
   "outputs": [],
   "source": [
    "## eg you want to change the value above$ into Npr"
   ]
  },
  {
   "cell_type": "code",
   "execution_count": 56,
   "id": "7f6f0153",
   "metadata": {},
   "outputs": [
    {
     "name": "stdout",
     "output_type": "stream",
     "text": [
      "[117, 2691, 6318, 16965, 38961, 66339, 534339, 117, 2691, 6318, 16965, 38961, 66339, 534339, 4045392]\n"
     ]
    }
   ],
   "source": [
    "npr=[]\n",
    "for i in cs:\n",
    "    npr.append(i*117)\n",
    "print(npr)"
   ]
  },
  {
   "cell_type": "code",
   "execution_count": 57,
   "id": "4afb5748",
   "metadata": {},
   "outputs": [
    {
     "data": {
      "text/plain": [
       "15"
      ]
     },
     "execution_count": 57,
     "metadata": {},
     "output_type": "execute_result"
    }
   ],
   "source": [
    "len(npr)"
   ]
  },
  {
   "cell_type": "code",
   "execution_count": 60,
   "id": "c393f30f",
   "metadata": {},
   "outputs": [
    {
     "data": {
      "text/plain": [
       "2"
      ]
     },
     "execution_count": 60,
     "metadata": {},
     "output_type": "execute_result"
    }
   ],
   "source": [
    "npr.count(117) #kati choti tyo number repeat cha"
   ]
  },
  {
   "cell_type": "code",
   "execution_count": 61,
   "id": "34a476f6",
   "metadata": {},
   "outputs": [
    {
     "data": {
      "text/plain": [
       "0"
      ]
     },
     "execution_count": 61,
     "metadata": {},
     "output_type": "execute_result"
    }
   ],
   "source": [
    "npr.index(117)"
   ]
  },
  {
   "cell_type": "code",
   "execution_count": 65,
   "id": "d752e3ea",
   "metadata": {},
   "outputs": [
    {
     "data": {
      "text/plain": [
       "3"
      ]
     },
     "execution_count": 65,
     "metadata": {},
     "output_type": "execute_result"
    }
   ],
   "source": [
    "npr.index(16965)"
   ]
  },
  {
   "cell_type": "code",
   "execution_count": 68,
   "id": "ccc27155",
   "metadata": {},
   "outputs": [],
   "source": [
    "npr.reverse() #value tyakka ulto bhayo"
   ]
  },
  {
   "cell_type": "code",
   "execution_count": 67,
   "id": "e4dbfcf7",
   "metadata": {},
   "outputs": [
    {
     "data": {
      "text/plain": [
       "[4045392,\n",
       " 534339,\n",
       " 66339,\n",
       " 38961,\n",
       " 16965,\n",
       " 6318,\n",
       " 2691,\n",
       " 117,\n",
       " 534339,\n",
       " 66339,\n",
       " 38961,\n",
       " 16965,\n",
       " 6318,\n",
       " 2691,\n",
       " 117]"
      ]
     },
     "execution_count": 67,
     "metadata": {},
     "output_type": "execute_result"
    }
   ],
   "source": [
    "npr "
   ]
  },
  {
   "cell_type": "code",
   "execution_count": null,
   "id": "a9ffd634",
   "metadata": {},
   "outputs": [],
   "source": []
  }
 ],
 "metadata": {
  "kernelspec": {
   "display_name": "Python 3 (ipykernel)",
   "language": "python",
   "name": "python3"
  },
  "language_info": {
   "codemirror_mode": {
    "name": "ipython",
    "version": 3
   },
   "file_extension": ".py",
   "mimetype": "text/x-python",
   "name": "python",
   "nbconvert_exporter": "python",
   "pygments_lexer": "ipython3",
   "version": "3.12.4"
  }
 },
 "nbformat": 4,
 "nbformat_minor": 5
}
