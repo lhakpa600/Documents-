{
 "cells": [
  {
   "cell_type": "code",
   "execution_count": 2,
   "id": "a45e6899",
   "metadata": {},
   "outputs": [
    {
     "name": "stdout",
     "output_type": "stream",
     "text": [
      "0\n",
      "1\n",
      "2\n",
      "3\n",
      "4\n",
      "5\n",
      "6\n",
      "7\n",
      "8\n",
      "9\n",
      "10\n",
      "11\n",
      "12\n",
      "13\n",
      "14\n",
      "15\n",
      "16\n",
      "17\n",
      "18\n",
      "19\n",
      "20\n",
      "21\n",
      "22\n",
      "23\n",
      "24\n",
      "25\n",
      "26\n",
      "27\n",
      "28\n",
      "29\n",
      "30\n",
      "31\n",
      "32\n",
      "33\n",
      "34\n",
      "35\n",
      "36\n",
      "37\n",
      "38\n",
      "39\n",
      "40\n",
      "41\n",
      "42\n",
      "43\n",
      "44\n",
      "45\n",
      "46\n",
      "47\n",
      "48\n",
      "49\n"
     ]
    }
   ],
   "source": [
    "a=0\n",
    "while a<50:\n",
    "    print(a)\n",
    "    a+=1"
   ]
  },
  {
   "cell_type": "code",
   "execution_count": 3,
   "id": "c660a9f4",
   "metadata": {},
   "outputs": [
    {
     "name": "stdout",
     "output_type": "stream",
     "text": [
      "0 is an even number \n",
      "1 is an odd number \n",
      "2 is an even number \n",
      "3 is an odd number \n",
      "4 is an even number \n",
      "5 is an odd number \n",
      "6 is an even number \n",
      "7 is an odd number \n",
      "8 is an even number \n",
      "9 is an odd number \n",
      "10 is an even number \n",
      "11 is an odd number \n",
      "12 is an even number \n",
      "13 is an odd number \n",
      "14 is an even number \n",
      "15 is an odd number \n",
      "16 is an even number \n",
      "17 is an odd number \n",
      "18 is an even number \n",
      "19 is an odd number \n",
      "20 is an even number \n",
      "21 is an odd number \n",
      "22 is an even number \n",
      "23 is an odd number \n",
      "24 is an even number \n",
      "25 is an odd number \n",
      "26 is an even number \n",
      "27 is an odd number \n",
      "28 is an even number \n",
      "29 is an odd number \n",
      "30 is an even number \n",
      "31 is an odd number \n",
      "32 is an even number \n",
      "33 is an odd number \n",
      "34 is an even number \n",
      "35 is an odd number \n",
      "36 is an even number \n",
      "37 is an odd number \n",
      "38 is an even number \n",
      "39 is an odd number \n",
      "40 is an even number \n",
      "41 is an odd number \n",
      "42 is an even number \n",
      "43 is an odd number \n",
      "44 is an even number \n",
      "45 is an odd number \n",
      "46 is an even number \n",
      "47 is an odd number \n",
      "48 is an even number \n",
      "49 is an odd number \n"
     ]
    }
   ],
   "source": [
    "a=0\n",
    "while a<50:\n",
    "    if a%2==0:\n",
    "        print(f'{a} is an even number ')\n",
    "        a+=1\n",
    "    else:\n",
    "        print(f'{a} is an odd number ')\n",
    "        a+=1"
   ]
  },
  {
   "cell_type": "code",
   "execution_count": 2,
   "id": "8e6a4a47",
   "metadata": {},
   "outputs": [
    {
     "ename": "IndentationError",
     "evalue": "expected an indented block after 'if' statement on line 3 (3171157346.py, line 4)",
     "output_type": "error",
     "traceback": [
      "\u001b[0;36m  Cell \u001b[0;32mIn[2], line 4\u001b[0;36m\u001b[0m\n\u001b[0;31m    print(f'{a} is neither odd nor even number ')\u001b[0m\n\u001b[0m    ^\u001b[0m\n\u001b[0;31mIndentationError\u001b[0m\u001b[0;31m:\u001b[0m expected an indented block after 'if' statement on line 3\n"
     ]
    }
   ],
   "source": [
    "a=0\n",
    "while a<50:\n",
    "    if (a==0):\n",
    "    print(f'{a} is neither odd nor even number')\n",
    "    a+=1\n",
    "elif:\n",
    "    (a%2=0):\n",
    "        \n",
    "    print(f'{a} is an even number ')\n",
    "        a+=1\n",
    "else:\n",
    "    print(f'{a} is an odd number ')\n",
    "        a+=1\n"
   ]
  },
  {
   "cell_type": "code",
   "execution_count": null,
   "id": "c74b4140",
   "metadata": {},
   "outputs": [
    {
     "name": "stdout",
     "output_type": "stream",
     "text": [
      "The number is an even\n"
     ]
    }
   ],
   "source": [
    "i=0\n",
    "while i<50:\n",
    "    if i%2==0:\n",
    "        print(\"The number is an even\")\n",
    "        i+=1\n",
    "else:\n",
    "    print(\"The number is odd\")\n",
    "    i+=1"
   ]
  },
  {
   "cell_type": "code",
   "execution_count": null,
   "id": "3e377c17",
   "metadata": {},
   "outputs": [],
   "source": []
  },
  {
   "cell_type": "code",
   "execution_count": 1,
   "id": "651ee291",
   "metadata": {},
   "outputs": [
    {
     "name": "stdout",
     "output_type": "stream",
     "text": [
      "399\n"
     ]
    }
   ],
   "source": [
    "bill=[45,66,78,90,120]\n",
    "total_bill=0\n",
    "for a in bill:\n",
    "    total_bill+=a\n",
    "    \n",
    "print(total_bill)\n"
   ]
  },
  {
   "cell_type": "code",
   "execution_count": 22,
   "id": "561a1486",
   "metadata": {},
   "outputs": [
    {
     "name": "stdout",
     "output_type": "stream",
     "text": [
      "The total bill is 399\n",
      "The average of money spent is 79.8\n"
     ]
    }
   ],
   "source": [
    "bill=[45,66,78,90,120]\n",
    "total_bill=0\n",
    "for a in bill:\n",
    "    total_bill+=a    \n",
    "print(f'The total bill is {total_bill}')\n",
    "print(f'The average of money spent is {total_bill/len(bill)}')"
   ]
  },
  {
   "cell_type": "code",
   "execution_count": null,
   "id": "4848250a",
   "metadata": {},
   "outputs": [],
   "source": [
    "#input=5\n",
    "n=int(input('Enter a number: '))\n",
    "sum_natural=0"
   ]
  },
  {
   "cell_type": "code",
   "execution_count": null,
   "id": "eed61fc3",
   "metadata": {},
   "outputs": [],
   "source": [
    "for i in range(1,n+1):\n",
    "    sum_natural += i\n",
    "    print(f'Sum of the first{n} natural number is: {sum_natural}')"
   ]
  },
  {
   "cell_type": "code",
   "execution_count": null,
   "id": "e015ec8d",
   "metadata": {},
   "outputs": [],
   "source": [
    "n=5"
   ]
  },
  {
   "cell_type": "markdown",
   "id": "03c94f8f",
   "metadata": {},
   "source": [
    "#### 1. Sum of N natural numbers (For Loop)"
   ]
  },
  {
   "cell_type": "code",
   "execution_count": null,
   "id": "d0990d7a",
   "metadata": {},
   "outputs": [],
   "source": [
    "Write a Python program to calculate the sum of the first "
   ]
  },
  {
   "cell_type": "code",
   "execution_count": null,
   "id": "5a907e82",
   "metadata": {},
   "outputs": [],
   "source": [
    "#For Loop\n",
    "num=int(input('Enter the number till which you wnat the sum'))\n",
    "sum=0\n",
    "for i in range(num+1):\n",
    "    sum=sum+i\n",
    "print(sum)"
   ]
  },
  {
   "cell_type": "code",
   "execution_count": 111,
   "id": "99903174",
   "metadata": {},
   "outputs": [
    {
     "name": "stdout",
     "output_type": "stream",
     "text": [
      "Enter the number till which you want the Factorial 5\n",
      "120\n"
     ]
    }
   ],
   "source": [
    "#While Loop\n",
    "num1=int(input('Enter the number till which you want the Factorial '))\n",
    "Factorial=1\n",
    "for i in range(1,num1+1):\n",
    "    Factorial*=i\n",
    "print(Factorial)"
   ]
  },
  {
   "cell_type": "code",
   "execution_count": null,
   "id": "d819546b",
   "metadata": {},
   "outputs": [],
   "source": [
    "# For Loop\n",
    "string=int(input('Enter the string that you wnat to reverse'))\n",
    "e_str=\"\"\n",
    "for i in string:\n",
    "    e_str=i+e_str\n",
    "print(e_str)"
   ]
  },
  {
   "cell_type": "code",
   "execution_count": 3,
   "id": "9eb50cc8",
   "metadata": {},
   "outputs": [
    {
     "ename": "SyntaxError",
     "evalue": "unmatched ')' (79912874.py, line 2)",
     "output_type": "error",
     "traceback": [
      "\u001b[0;36m  Cell \u001b[0;32mIn[3], line 2\u001b[0;36m\u001b[0m\n\u001b[0;31m    string=input('Enter the string that you wnat to reverse'))\u001b[0m\n\u001b[0m                                                             ^\u001b[0m\n\u001b[0;31mSyntaxError\u001b[0m\u001b[0;31m:\u001b[0m unmatched ')'\n"
     ]
    }
   ],
   "source": [
    "# While Loop\n",
    "string=input('Enter the string that you wnat to reverse')\n",
    "e_str=\"\"\n",
    "while a<len string:\n",
    "    e_str=string[a]+e_str\n",
    "    a=a+1\n",
    "print(e_str)"
   ]
  },
  {
   "cell_type": "code",
   "execution_count": null,
   "id": "b5f2390c",
   "metadata": {},
   "outputs": [],
   "source": [
    "#search for a number x in this tuple using loop\n",
    "(1,4,9,16,25,36,49,64,81,100)"
   ]
  },
  {
   "cell_type": "code",
   "execution_count": 17,
   "id": "5a1d007c",
   "metadata": {},
   "outputs": [
    {
     "name": "stdout",
     "output_type": "stream",
     "text": [
      "number has been found at idx 6\n",
      "number has been found at idx 10\n"
     ]
    }
   ],
   "source": [
    "nums = (1, 4, 9, 16, 25, 36, 49, 64, 81, 100, 49)\n",
    "x = 49\n",
    "idx = 0\n",
    "for el in nums:\n",
    "    if el == x:\n",
    "        print(\"number has been found at idx\", idx)\n",
    "    idx += 1"
   ]
  },
  {
   "cell_type": "code",
   "execution_count": 18,
   "id": "040c59ea",
   "metadata": {},
   "outputs": [
    {
     "name": "stdout",
     "output_type": "stream",
     "text": [
      "number has been found at idx 6\n",
      "number has been found at idx 10\n"
     ]
    }
   ],
   "source": [
    "nums=(1,4,9,16,25,36,49,64,81,100,49)\n",
    "x=49\n",
    "idx=0\n",
    "for el in nums:\n",
    "    if (el==x):\n",
    "         print(\"number has been found at idx\",idx)\n",
    "    idx+=1"
   ]
  },
  {
   "cell_type": "code",
   "execution_count": 2,
   "id": "4dc846cd",
   "metadata": {},
   "outputs": [],
   "source": [
    "nums=(1,4,9,16,25,36,49,64,81,100,49)\n",
    "x=49\n",
    "idx=0\n",
    "for el in range(0,len(nums)):\n",
    "    if (el==x):\n",
    "        \n",
    "        print(\"number has been found at idx\",idx)\n",
    "      "
   ]
  },
  {
   "cell_type": "code",
   "execution_count": null,
   "id": "5c9eeecd",
   "metadata": {},
   "outputs": [],
   "source": [
    "\n"
   ]
  },
  {
   "cell_type": "code",
   "execution_count": 2,
   "id": "9d679fa0",
   "metadata": {},
   "outputs": [],
   "source": [
    "#Multiplication table for loop"
   ]
  },
  {
   "cell_type": "code",
   "execution_count": null,
   "id": "c2fff1fd",
   "metadata": {},
   "outputs": [],
   "source": [
    "n=int(input(\"enter the number: \"))\n",
    "for i in range (1,11):\n",
    "    print(n*i)"
   ]
  },
  {
   "cell_type": "code",
   "execution_count": 4,
   "id": "ce72cb49",
   "metadata": {},
   "outputs": [
    {
     "name": "stdout",
     "output_type": "stream",
     "text": [
      "enter the number: 7\n",
      "7\n",
      "14\n",
      "21\n",
      "28\n",
      "35\n",
      "42\n",
      "49\n",
      "56\n",
      "63\n",
      "70\n",
      "77\n",
      "84\n",
      "91\n",
      "98\n",
      "105\n",
      "112\n",
      "119\n",
      "126\n",
      "133\n",
      "140\n"
     ]
    }
   ],
   "source": [
    "n=int(input(\"enter the number: \"))\n",
    "for i in range(1,21):\n",
    "    print(n*i)"
   ]
  },
  {
   "cell_type": "code",
   "execution_count": null,
   "id": "6c36a6e4",
   "metadata": {},
   "outputs": [],
   "source": [
    "#FACTORIAL CALCULATION (WHILE LOOP)\n"
   ]
  },
  {
   "cell_type": "code",
   "execution_count": 65,
   "id": "106397ff",
   "metadata": {},
   "outputs": [
    {
     "name": "stdout",
     "output_type": "stream",
     "text": [
      "enter the number: 5\n"
     ]
    },
    {
     "ename": "TypeError",
     "evalue": "'int' object is not callable",
     "output_type": "error",
     "traceback": [
      "\u001b[0;31m---------------------------------------------------------------------------\u001b[0m",
      "\u001b[0;31mTypeError\u001b[0m                                 Traceback (most recent call last)",
      "Cell \u001b[0;32mIn[65], line 6\u001b[0m\n\u001b[1;32m      4\u001b[0m factorial\u001b[38;5;241m*\u001b[39m\u001b[38;5;241m=\u001b[39mn\n\u001b[1;32m      5\u001b[0m n\u001b[38;5;241m-\u001b[39m\u001b[38;5;241m=\u001b[39m\u001b[38;5;241m1\u001b[39m\n\u001b[0;32m----> 6\u001b[0m \u001b[38;5;28mprint\u001b[39m(\u001b[38;5;124mf\u001b[39m\u001b[38;5;124m\"\u001b[39m\u001b[38;5;124mthe factorial of \u001b[39m\u001b[38;5;132;01m{\u001b[39;00mn\u001b[38;5;132;01m}\u001b[39;00m\u001b[38;5;124m is \u001b[39m\u001b[38;5;132;01m{\u001b[39;00mfactorial(n)\u001b[38;5;132;01m}\u001b[39;00m\u001b[38;5;124m\"\u001b[39m)\n",
      "\u001b[0;31mTypeError\u001b[0m: 'int' object is not callable"
     ]
    }
   ],
   "source": [
    "n=int(input(\"enter the number: \"))\n",
    "factorial=1\n",
    "while n>0:\n",
    "    factorial*=n\n",
    "    n-=1\n",
    "    print(f\"the factorial of {n} is {factorial(n)}\")"
   ]
  },
  {
   "cell_type": "code",
   "execution_count": 12,
   "id": "d4997ee7",
   "metadata": {},
   "outputs": [
    {
     "name": "stdout",
     "output_type": "stream",
     "text": [
      "some datas\n",
      "some datas\n",
      "some datas\n",
      "some datas\n",
      "some datas\n"
     ]
    }
   ],
   "source": [
    "##PASS STATEMENT\n",
    "for i in range (5):\n",
    "    \n",
    "    print(\"some datas\")"
   ]
  },
  {
   "cell_type": "code",
   "execution_count": 16,
   "id": "c5e0936b",
   "metadata": {},
   "outputs": [
    {
     "ename": "IndentationError",
     "evalue": "unindent does not match any outer indentation level (<string>, line 3)",
     "output_type": "error",
     "traceback": [
      "\u001b[0;36m  File \u001b[0;32m<string>:3\u001b[0;36m\u001b[0m\n\u001b[0;31m    print(\"some datas\")\u001b[0m\n\u001b[0m                       ^\u001b[0m\n\u001b[0;31mIndentationError\u001b[0m\u001b[0;31m:\u001b[0m unindent does not match any outer indentation level\n"
     ]
    }
   ],
   "source": [
    "for i in range(5):\n",
    "          pass\n",
    "    print(\"some datas\")"
   ]
  },
  {
   "cell_type": "code",
   "execution_count": 20,
   "id": "e3a0ce60",
   "metadata": {},
   "outputs": [
    {
     "name": "stdout",
     "output_type": "stream",
     "text": [
      "1\n",
      "2\n",
      "3\n",
      "4\n",
      "5\n"
     ]
    }
   ],
   "source": [
    "n=5\n",
    "for i in range(1,n+1):\n",
    "    print(i)"
   ]
  },
  {
   "cell_type": "code",
   "execution_count": 31,
   "id": "c97e3e93",
   "metadata": {},
   "outputs": [
    {
     "name": "stdout",
     "output_type": "stream",
     "text": [
      "4\n",
      "3\n",
      "2\n",
      "1\n",
      "0\n"
     ]
    }
   ],
   "source": [
    "n=5\n",
    "i=n\n",
    "while i>=1:\n",
    "    i-=1\n",
    "\n",
    "    print(i)"
   ]
  },
  {
   "cell_type": "code",
   "execution_count": 33,
   "id": "f90e9b50",
   "metadata": {},
   "outputs": [
    {
     "name": "stdout",
     "output_type": "stream",
     "text": [
      "4\n",
      "3\n",
      "2\n",
      "1\n",
      "0\n"
     ]
    }
   ],
   "source": [
    "i=5\n",
    "while i>=1:\n",
    "     \n",
    "        i-=1\n",
    "        print(i)"
   ]
  },
  {
   "cell_type": "code",
   "execution_count": 29,
   "id": "48b8f6ed",
   "metadata": {},
   "outputs": [
    {
     "ename": "IndentationError",
     "evalue": "unexpected indent (2123662952.py, line 6)",
     "output_type": "error",
     "traceback": [
      "\u001b[0;36m  Cell \u001b[0;32mIn[29], line 6\u001b[0;36m\u001b[0m\n\u001b[0;31m    i-=100\u001b[0m\n\u001b[0m    ^\u001b[0m\n\u001b[0;31mIndentationError\u001b[0m\u001b[0;31m:\u001b[0m unexpected indent\n"
     ]
    }
   ],
   "source": [
    "i=100\n",
    "\n",
    "while i>=1:\n",
    "\n",
    "    print(i)\n",
    "     i-=100"
   ]
  },
  {
   "cell_type": "code",
   "execution_count": 22,
   "id": "31f12b37",
   "metadata": {},
   "outputs": [
    {
     "name": "stdout",
     "output_type": "stream",
     "text": [
      "total sum= 1\n",
      "total sum= 3\n",
      "total sum= 6\n",
      "total sum= 10\n",
      "total sum= 15\n",
      "total sum= 21\n",
      "total sum= 28\n"
     ]
    }
   ],
   "source": [
    "#sum for loop\n",
    "n=7\n",
    "sum=0\n",
    "for i in range (1,n+1):\n",
    "    sum+=i\n",
    "    print(\"total sum=\",sum)"
   ]
  },
  {
   "cell_type": "code",
   "execution_count": 1,
   "id": "771ec462",
   "metadata": {},
   "outputs": [
    {
     "name": "stdout",
     "output_type": "stream",
     "text": [
      "total sum 1\n",
      "total sum 3\n",
      "total sum 6\n",
      "total sum 10\n",
      "total sum 15\n",
      "total sum 21\n",
      "total sum 28\n"
     ]
    }
   ],
   "source": [
    "# SUM while loop\n",
    "n=7\n",
    "sum=0\n",
    "i=1\n",
    "while i<=n:\n",
    "    sum+=i\n",
    "    i+=1\n",
    "    \n",
    "    print(\"total sum\",sum)"
   ]
  },
  {
   "cell_type": "code",
   "execution_count": 30,
   "id": "46773cbc",
   "metadata": {},
   "outputs": [],
   "source": [
    "# Reverse a string (while loop)\n",
    "#Write a python program that reverses a given string using a while loop. eg input hello output olleh"
   ]
  },
  {
   "cell_type": "code",
   "execution_count": 16,
   "id": "77c30513",
   "metadata": {},
   "outputs": [
    {
     "name": "stdout",
     "output_type": "stream",
     "text": [
      "Reversed string: olleH\n"
     ]
    }
   ],
   "source": [
    "txt=\"Hello\"\n",
    "reverse_txt=\"\"\n",
    "\n",
    "i= len(txt) -1 #starting from the last index of the string\n",
    "\n",
    "while i>=0:\n",
    "    reverse_txt += txt[i]\n",
    "    i-=1 #Decrease i by 1 #MOVE TO THE PREVIOUS CHARACTER \n",
    "        \n",
    "print(\"Reversed string:\", reverse_txt)\n",
    "  \n"
   ]
  },
  {
   "cell_type": "markdown",
   "id": "2f717711",
   "metadata": {},
   "source": [
    "## FUNCTION"
   ]
  },
  {
   "cell_type": "code",
   "execution_count": 20,
   "id": "a869f617",
   "metadata": {},
   "outputs": [],
   "source": [
    "def add():\n",
    "    print ('The function is working')"
   ]
  },
  {
   "cell_type": "code",
   "execution_count": 21,
   "id": "82bd3536",
   "metadata": {},
   "outputs": [
    {
     "name": "stdout",
     "output_type": "stream",
     "text": [
      "The function is working\n"
     ]
    }
   ],
   "source": [
    "add()"
   ]
  },
  {
   "cell_type": "code",
   "execution_count": 24,
   "id": "9771d020",
   "metadata": {},
   "outputs": [],
   "source": [
    "def test(a,b,c,d,e):\n",
    "    x=a+b-c\n",
    "    y=x+d+e\n",
    "    print(y)"
   ]
  },
  {
   "cell_type": "code",
   "execution_count": 26,
   "id": "9c9a5e8c",
   "metadata": {},
   "outputs": [
    {
     "name": "stdout",
     "output_type": "stream",
     "text": [
      "55\n"
     ]
    }
   ],
   "source": [
    "test(45,60,70,10,10)"
   ]
  },
  {
   "cell_type": "code",
   "execution_count": 30,
   "id": "2b2bc979",
   "metadata": {},
   "outputs": [
    {
     "name": "stdout",
     "output_type": "stream",
     "text": [
      "330\n"
     ]
    }
   ],
   "source": [
    "test(100,200,250,130,150)"
   ]
  },
  {
   "cell_type": "markdown",
   "id": "0b25be65",
   "metadata": {},
   "source": [
    "### Argument & Parameter"
   ]
  },
  {
   "cell_type": "code",
   "execution_count": 5,
   "id": "54fef7a6",
   "metadata": {},
   "outputs": [],
   "source": [
    "def diff(x,y): #def define mandatory normal string\n",
    "    print (x-y)"
   ]
  },
  {
   "cell_type": "code",
   "execution_count": 6,
   "id": "3f406534",
   "metadata": {},
   "outputs": [
    {
     "name": "stdout",
     "output_type": "stream",
     "text": [
      "76\n"
     ]
    }
   ],
   "source": [
    "diff(80,4)"
   ]
  },
  {
   "cell_type": "code",
   "execution_count": 7,
   "id": "13a3bff0",
   "metadata": {},
   "outputs": [],
   "source": [
    "def test(*val):\n",
    "    x=val[0]+val[1]\n",
    "    y=x-val[2]+val[3]+val[4]\n",
    "    print(y)"
   ]
  },
  {
   "cell_type": "code",
   "execution_count": 8,
   "id": "4e198abd",
   "metadata": {},
   "outputs": [],
   "source": [
    "test:(40,50,60,70,80)"
   ]
  },
  {
   "cell_type": "code",
   "execution_count": 9,
   "id": "e8e8330e",
   "metadata": {},
   "outputs": [],
   "source": [
    "def test(*val): #number of argu thaha chaina \n",
    "    print(val[0])\n",
    "    print(val[1])\n",
    "    print(val[2])"
   ]
  },
  {
   "cell_type": "code",
   "execution_count": 12,
   "id": "a41d19e6",
   "metadata": {},
   "outputs": [
    {
     "name": "stdout",
     "output_type": "stream",
     "text": [
      "1\n",
      "2\n",
      "3\n",
      "4\n",
      "5\n",
      "6\n",
      "7\n",
      "8\n"
     ]
    }
   ],
   "source": [
    "t=(1,2,3,4,5,6,7,8)\n",
    "for i in t:\n",
    "    print(i)"
   ]
  },
  {
   "cell_type": "code",
   "execution_count": 13,
   "id": "e3b39941",
   "metadata": {},
   "outputs": [
    {
     "name": "stdout",
     "output_type": "stream",
     "text": [
      "40\n",
      "50\n",
      "60\n"
     ]
    }
   ],
   "source": [
    "test(40,50,60,70,80)"
   ]
  },
  {
   "cell_type": "code",
   "execution_count": 15,
   "id": "2b31e6ad",
   "metadata": {},
   "outputs": [],
   "source": [
    "def test(*arg):\n",
    "    for i in arg:\n",
    "        print(i)"
   ]
  },
  {
   "cell_type": "code",
   "execution_count": 9,
   "id": "4a8555e3",
   "metadata": {},
   "outputs": [
    {
     "name": "stdout",
     "output_type": "stream",
     "text": [
      "455\n",
      "55\n",
      "77\n",
      "86\n",
      "75\n",
      "32\n",
      "589\n",
      "22\n",
      "100\n"
     ]
    }
   ],
   "source": [
    "test(455,55,77,86,75,32,589,22,100)"
   ]
  },
  {
   "cell_type": "code",
   "execution_count": 18,
   "id": "3f867f71",
   "metadata": {},
   "outputs": [],
   "source": [
    "def test(*n):\n",
    "    for i in n:\n",
    "        print(i)"
   ]
  },
  {
   "cell_type": "code",
   "execution_count": 19,
   "id": "34a28dd0",
   "metadata": {},
   "outputs": [
    {
     "name": "stdout",
     "output_type": "stream",
     "text": [
      "455\n",
      "55\n",
      "77\n",
      "86\n",
      "75\n",
      "32\n",
      "589\n",
      "22\n",
      "100\n"
     ]
    }
   ],
   "source": [
    "test(455,55,77,86,75,32,589,22,100)"
   ]
  },
  {
   "cell_type": "code",
   "execution_count": 6,
   "id": "4afa49bd",
   "metadata": {},
   "outputs": [
    {
     "name": "stdout",
     "output_type": "stream",
     "text": [
      "The key is name and the value is lhakpa\n",
      "The key is age and the value is 28\n",
      "The key is city and the value is Tatopani\n"
     ]
    }
   ],
   "source": [
    "dic={'name':'lhakpa','age':28, 'city':'Tatopani'}\n",
    "for i,j in dic.items():\n",
    "    print(f'The key is {i} and the value is {j}')"
   ]
  },
  {
   "cell_type": "code",
   "execution_count": null,
   "id": "2a08f59e",
   "metadata": {},
   "outputs": [],
   "source": []
  },
  {
   "cell_type": "code",
   "execution_count": 4,
   "id": "0ae4be97",
   "metadata": {},
   "outputs": [],
   "source": [
    "def status(city='Kathmandu',name='Udit', age=27):\n",
    "    print (f'I live in {city}.I am {name} and my age is {age}')"
   ]
  },
  {
   "cell_type": "code",
   "execution_count": 5,
   "id": "482c2014",
   "metadata": {},
   "outputs": [
    {
     "name": "stdout",
     "output_type": "stream",
     "text": [
      "I live in Kathmandu.I am Udit and my age is 27\n"
     ]
    }
   ],
   "source": [
    "status()"
   ]
  },
  {
   "cell_type": "code",
   "execution_count": 6,
   "id": "2238b934",
   "metadata": {},
   "outputs": [
    {
     "name": "stdout",
     "output_type": "stream",
     "text": [
      "I live in Tatopani.I am Lhakpa and my age is 27\n"
     ]
    }
   ],
   "source": [
    "status ('Tatopani','Lhakpa')"
   ]
  },
  {
   "cell_type": "code",
   "execution_count": 7,
   "id": "bda131dd",
   "metadata": {},
   "outputs": [],
   "source": [
    "def status(city,name, age=27):\n",
    "    print (f'I live in {city}.I am {name} and my age is {age}')"
   ]
  },
  {
   "cell_type": "code",
   "execution_count": 8,
   "id": "fa987b16",
   "metadata": {},
   "outputs": [],
   "source": [
    "def test(**val):\n",
    "    print(val['name'],val['age'],val['city'])"
   ]
  },
  {
   "cell_type": "code",
   "execution_count": 9,
   "id": "846b9ad7",
   "metadata": {},
   "outputs": [
    {
     "name": "stdout",
     "output_type": "stream",
     "text": [
      "Lhakpa 28 Tatopani\n"
     ]
    }
   ],
   "source": [
    "test(name='Lhakpa',age=28, city='Tatopani', hobbies='Sleeping')"
   ]
  },
  {
   "cell_type": "code",
   "execution_count": 16,
   "id": "709eecad",
   "metadata": {},
   "outputs": [
    {
     "name": "stdout",
     "output_type": "stream",
     "text": [
      "Enter the Principal amount in NPR8000\n",
      "Enter the Rate of interest 10\n",
      "Enter the time in year 5\n",
      "Your interest of the given amount is 4000.0\n"
     ]
    }
   ],
   "source": [
    "#write a program to calculate the simple interest \n",
    "def si(p,t,r):\n",
    "    i=(p*t*r)/100\n",
    "    print(f'Your interest of the given amount is {i}')\n",
    "    \n",
    "p=int(input('Enter the Principal amount in NPR'))\n",
    "r=int(input('Enter the Rate of interest '))\n",
    "t=int(input('Enter the time in year '))\n",
    "\n",
    "si(p,t,r)"
   ]
  },
  {
   "cell_type": "code",
   "execution_count": 2,
   "id": "21631f98",
   "metadata": {},
   "outputs": [
    {
     "name": "stdout",
     "output_type": "stream",
     "text": [
      "Hello,Lhakpa!Tashi Delek!\n"
     ]
    }
   ],
   "source": [
    "#Write a Python function greet(name) that takes a name as an argument and prints a greeting message.\n",
    "def greet(name):\n",
    "    print(f'Hello,{name}!Tashi Delek!')\n",
    "     \n",
    "greet('Lhakpa')\n"
   ]
  },
  {
   "cell_type": "code",
   "execution_count": 96,
   "id": "e25becbd",
   "metadata": {},
   "outputs": [
    {
     "name": "stdout",
     "output_type": "stream",
     "text": [
      "Hello,Tenzin!Namaste!\n"
     ]
    }
   ],
   "source": [
    "def greet(name):\n",
    "    print(f\"Hello,{name}!Namaste!\")\n",
    "    \n",
    "greet(\"Tenzin\")"
   ]
  },
  {
   "cell_type": "code",
   "execution_count": null,
   "id": "70f5dff1",
   "metadata": {},
   "outputs": [],
   "source": []
  },
  {
   "cell_type": "code",
   "execution_count": 2,
   "id": "37d11c6b",
   "metadata": {},
   "outputs": [
    {
     "name": "stdout",
     "output_type": "stream",
     "text": [
      "15\n"
     ]
    }
   ],
   "source": [
    "#eg\n",
    "a=5\n",
    "b=10                 #yo code repeat huna nadina \n",
    "sum=a+b\n",
    "print(sum)"
   ]
  },
  {
   "cell_type": "code",
   "execution_count": 8,
   "id": "f5dea905",
   "metadata": {},
   "outputs": [],
   "source": [
    "def cal_sum(a,b):\n",
    "    sum=a+b\n",
    "    print(sum)             #fixed code for repeated code #this is used to reduce redundancy \n",
    "    return sum "
   ]
  },
  {
   "cell_type": "code",
   "execution_count": 5,
   "id": "45bc4855",
   "metadata": {},
   "outputs": [
    {
     "name": "stdout",
     "output_type": "stream",
     "text": [
      "21\n"
     ]
    },
    {
     "data": {
      "text/plain": [
       "21"
      ]
     },
     "execution_count": 5,
     "metadata": {},
     "output_type": "execute_result"
    }
   ],
   "source": [
    "cal_sum(2,19)"
   ]
  },
  {
   "cell_type": "code",
   "execution_count": 6,
   "id": "e99be857",
   "metadata": {},
   "outputs": [
    {
     "name": "stdout",
     "output_type": "stream",
     "text": [
      "15\n"
     ]
    },
    {
     "data": {
      "text/plain": [
       "15"
      ]
     },
     "execution_count": 6,
     "metadata": {},
     "output_type": "execute_result"
    }
   ],
   "source": [
    "cal_sum(5,10)"
   ]
  },
  {
   "cell_type": "code",
   "execution_count": 10,
   "id": "1ea3344f",
   "metadata": {},
   "outputs": [
    {
     "name": "stdout",
     "output_type": "stream",
     "text": [
      "15\n"
     ]
    }
   ],
   "source": [
    "#MORE Simple \n",
    "def cal_sum(a,b): #(yo whole code lai) is called function definition, (a,b)is parameter)\n",
    "    return a+b\n",
    "sum=cal_sum(1,2) #yo line lai function cell bancha; (1,2)wala lai arguments bancha\n",
    "print(sum)"
   ]
  },
  {
   "cell_type": "code",
   "execution_count": 1,
   "id": "7040c323",
   "metadata": {},
   "outputs": [
    {
     "name": "stdout",
     "output_type": "stream",
     "text": [
      "hello\n",
      "hello\n",
      "hello\n",
      "hello\n",
      "hello\n"
     ]
    }
   ],
   "source": [
    "#more simple\n",
    "def print_hello():    #()khali rakhne paranthesis bancha\n",
    "    print(\"hello\")\n",
    "    \n",
    "print_hello()\n",
    "print_hello()        #no input, no parameter, no output , no return value and this is also possible \n",
    "print_hello()\n",
    "print_hello()\n",
    "print_hello()"
   ]
  },
  {
   "cell_type": "code",
   "execution_count": 2,
   "id": "26ecf758",
   "metadata": {},
   "outputs": [
    {
     "name": "stdout",
     "output_type": "stream",
     "text": [
      "hello\n",
      "None\n"
     ]
    }
   ],
   "source": [
    "def print_hello():   \n",
    "    print(\"hello\")\n",
    " #eg, euta variable ma store    \n",
    "output=print_hello()        #yesma kai pani return chaina tesaile None aucha result \n",
    "print(output)"
   ]
  },
  {
   "cell_type": "code",
   "execution_count": 16,
   "id": "1b3a9bef",
   "metadata": {},
   "outputs": [],
   "source": [
    "#average of 3 numbers \n",
    "def cal_sum(a,b,c):\n",
    "    sum= a+b+c\n",
    "    avg=(a+b+c)/3\n",
    "    print(avg)\n",
    "    return avg"
   ]
  },
  {
   "cell_type": "code",
   "execution_count": 15,
   "id": "30da5469",
   "metadata": {},
   "outputs": [
    {
     "name": "stdout",
     "output_type": "stream",
     "text": [
      "71.33333333333333\n"
     ]
    },
    {
     "data": {
      "text/plain": [
       "71.33333333333333"
      ]
     },
     "execution_count": 15,
     "metadata": {},
     "output_type": "execute_result"
    }
   ],
   "source": [
    "cal_sum(46,78,90)"
   ]
  },
  {
   "cell_type": "code",
   "execution_count": 12,
   "id": "a7be7f88",
   "metadata": {},
   "outputs": [
    {
     "name": "stdout",
     "output_type": "stream",
     "text": [
      "31.333333333333332\n"
     ]
    },
    {
     "data": {
      "text/plain": [
       "31.333333333333332"
      ]
     },
     "execution_count": 12,
     "metadata": {},
     "output_type": "execute_result"
    }
   ],
   "source": [
    "cal_sum(36,2,56)"
   ]
  },
  {
   "cell_type": "markdown",
   "id": "1ad3d3b6",
   "metadata": {},
   "source": [
    "#### Type: 1. Build-in Function; i) PRINT FUNCTIONS ii) len( )  iii) type( ) iv) range( )"
   ]
  },
  {
   "cell_type": "code",
   "execution_count": 17,
   "id": "fc3ca612",
   "metadata": {},
   "outputs": [
    {
     "name": "stdout",
     "output_type": "stream",
     "text": [
      "Lhakpa Dolma\n"
     ]
    }
   ],
   "source": [
    "print(\"Lhakpa\",\"Dolma\")"
   ]
  },
  {
   "cell_type": "code",
   "execution_count": 18,
   "id": "ff3660c1",
   "metadata": {},
   "outputs": [
    {
     "name": "stdout",
     "output_type": "stream",
     "text": [
      "Lhakpa\n",
      "Dolma\n"
     ]
    }
   ],
   "source": [
    "print(\"Lhakpa\")\n",
    "print(\"Dolma\")"
   ]
  },
  {
   "cell_type": "code",
   "execution_count": 21,
   "id": "68d0f379",
   "metadata": {},
   "outputs": [
    {
     "name": "stdout",
     "output_type": "stream",
     "text": [
      "Lhakpa Dolma\n"
     ]
    }
   ],
   "source": [
    "print(\"Lhakpa\",end=\" \")\n",
    "print(\"Dolma\")"
   ]
  },
  {
   "cell_type": "code",
   "execution_count": 24,
   "id": "866f5411",
   "metadata": {},
   "outputs": [
    {
     "ename": "SyntaxError",
     "evalue": "unexpected character after line continuation character (3092071212.py, line 1)",
     "output_type": "error",
     "traceback": [
      "\u001b[0;36m  Cell \u001b[0;32mIn[24], line 1\u001b[0;36m\u001b[0m\n\u001b[0;31m    print(\"Lhakpa\",\\n=\" \")\u001b[0m\n\u001b[0m                    ^\u001b[0m\n\u001b[0;31mSyntaxError\u001b[0m\u001b[0;31m:\u001b[0m unexpected character after line continuation character\n"
     ]
    }
   ],
   "source": [
    "print(\"Lhakpa\",\\n=\" \")\n",
    "print(\"Dolma\")"
   ]
  },
  {
   "cell_type": "markdown",
   "id": "f3ffd05b",
   "metadata": {},
   "source": [
    "## Default parameter "
   ]
  },
  {
   "cell_type": "code",
   "execution_count": 27,
   "id": "12b19bdc",
   "metadata": {},
   "outputs": [],
   "source": [
    "def cal_sum(a,b):\n",
    "    print(a*b)\n",
    "    return(a*b)"
   ]
  },
  {
   "cell_type": "code",
   "execution_count": 28,
   "id": "e4734527",
   "metadata": {},
   "outputs": [
    {
     "ename": "TypeError",
     "evalue": "cal_sum() missing 2 required positional arguments: 'a' and 'b'",
     "output_type": "error",
     "traceback": [
      "\u001b[0;31m---------------------------------------------------------------------------\u001b[0m",
      "\u001b[0;31mTypeError\u001b[0m                                 Traceback (most recent call last)",
      "Cell \u001b[0;32mIn[28], line 1\u001b[0m\n\u001b[0;32m----> 1\u001b[0m cal_sum()\n",
      "\u001b[0;31mTypeError\u001b[0m: cal_sum() missing 2 required positional arguments: 'a' and 'b'"
     ]
    }
   ],
   "source": [
    " cal_sum()  #yo error huncha kinaki yesma arguments chanhincha, but without parameter,function can operate by :"
   ]
  },
  {
   "cell_type": "code",
   "execution_count": 30,
   "id": "0515aec8",
   "metadata": {},
   "outputs": [],
   "source": [
    "#to do that\n",
    "def cal_sum(a=2,b=7):\n",
    "    print (a*b)\n",
    "    return(a*b)"
   ]
  },
  {
   "cell_type": "code",
   "execution_count": 31,
   "id": "df4959e6",
   "metadata": {},
   "outputs": [
    {
     "name": "stdout",
     "output_type": "stream",
     "text": [
      "14\n"
     ]
    },
    {
     "data": {
      "text/plain": [
       "14"
      ]
     },
     "execution_count": 31,
     "metadata": {},
     "output_type": "execute_result"
    }
   ],
   "source": [
    "cal_sum() #happens by default"
   ]
  },
  {
   "cell_type": "code",
   "execution_count": 32,
   "id": "b53dc83f",
   "metadata": {},
   "outputs": [],
   "source": [
    "def cal_sum(a,b=7):  #single pani huncha\n",
    "    print (a*b)\n",
    "    return(a*b)"
   ]
  },
  {
   "cell_type": "code",
   "execution_count": 34,
   "id": "b17e98d9",
   "metadata": {},
   "outputs": [
    {
     "name": "stdout",
     "output_type": "stream",
     "text": [
      "7\n"
     ]
    },
    {
     "data": {
      "text/plain": [
       "7"
      ]
     },
     "execution_count": 34,
     "metadata": {},
     "output_type": "execute_result"
    }
   ],
   "source": [
    "cal_sum(1)"
   ]
  },
  {
   "cell_type": "code",
   "execution_count": 35,
   "id": "a0fcc312",
   "metadata": {},
   "outputs": [
    {
     "ename": "SyntaxError",
     "evalue": "parameter without a default follows parameter with a default (1948263142.py, line 2)",
     "output_type": "error",
     "traceback": [
      "\u001b[0;36m  Cell \u001b[0;32mIn[35], line 2\u001b[0;36m\u001b[0m\n\u001b[0;31m    def cal_sum(a=b,b):  #single pani huncha\u001b[0m\n\u001b[0m                    ^\u001b[0m\n\u001b[0;31mSyntaxError\u001b[0m\u001b[0;31m:\u001b[0m parameter without a default follows parameter with a default\n"
     ]
    }
   ],
   "source": [
    "#cannot do opposite  pahila # default value last ma matra dine agadi haina\n",
    "def cal_sum(a=b,b):  #single pani huncha\n",
    "    print (a*b)\n",
    "    return(a*b)"
   ]
  },
  {
   "cell_type": "code",
   "execution_count": 59,
   "id": "a4b794ec",
   "metadata": {},
   "outputs": [],
   "source": [
    "#WAP to print the length of the list : list is the parameter\n",
    "#example\n",
    "\n",
    "cities=[\"Tatopani\",\"Barabesi\",\"kathmandu\",\"Pokhara\",\"Biratnagar\"]\n",
    "Heroes=[\"Ironman\",\"Spiderman\",\"Batman\",\"Hatim\",\"Captain America\"]\n",
    "    \n",
    "def  print_len(list):\n",
    "     print(len(list))"
   ]
  },
  {
   "cell_type": "code",
   "execution_count": 60,
   "id": "263d63aa",
   "metadata": {},
   "outputs": [
    {
     "name": "stdout",
     "output_type": "stream",
     "text": [
      "5\n"
     ]
    }
   ],
   "source": [
    "print_len(cities)"
   ]
  },
  {
   "cell_type": "code",
   "execution_count": 61,
   "id": "4233f168",
   "metadata": {},
   "outputs": [
    {
     "name": "stdout",
     "output_type": "stream",
     "text": [
      "5\n"
     ]
    }
   ],
   "source": [
    "print_len(Heroes)"
   ]
  },
  {
   "cell_type": "code",
   "execution_count": 62,
   "id": "af4bc41e",
   "metadata": {},
   "outputs": [
    {
     "data": {
      "text/plain": [
       "5"
      ]
     },
     "execution_count": 62,
     "metadata": {},
     "output_type": "execute_result"
    }
   ],
   "source": [
    "#pahila yesto gartiyo \n",
    "len(cities)        #but yo code repeat nagarna mathi ko function define"
   ]
  },
  {
   "cell_type": "code",
   "execution_count": 63,
   "id": "e92bfdcc",
   "metadata": {},
   "outputs": [],
   "source": [
    "#Print in single line:\n",
    "\n",
    "def print_list(list):\n",
    "    for items in list:\n",
    "        print(items, end=\" \")\n",
    "    "
   ]
  },
  {
   "cell_type": "code",
   "execution_count": 64,
   "id": "17babaeb",
   "metadata": {},
   "outputs": [
    {
     "name": "stdout",
     "output_type": "stream",
     "text": [
      "Tatopani Barabesi kathmandu Pokhara Biratnagar "
     ]
    }
   ],
   "source": [
    "print_list(cities)"
   ]
  },
  {
   "cell_type": "code",
   "execution_count": 84,
   "id": "0f6a23a8",
   "metadata": {},
   "outputs": [],
   "source": [
    "#find the factorial of n.(n is a parameter)\n",
    "\n",
    "def cal_fact(n):\n",
    "    fact=1\n",
    "    \n",
    "    for i in range(1,n+1):\n",
    "        fact*=i\n",
    "    print(fact)\n"
   ]
  },
  {
   "cell_type": "code",
   "execution_count": 85,
   "id": "fb3dabe5",
   "metadata": {},
   "outputs": [
    {
     "name": "stdout",
     "output_type": "stream",
     "text": [
      "120\n"
     ]
    }
   ],
   "source": [
    "cal_fact(5)"
   ]
  },
  {
   "cell_type": "code",
   "execution_count": 86,
   "id": "112c7de7",
   "metadata": {},
   "outputs": [
    {
     "name": "stdout",
     "output_type": "stream",
     "text": [
      "362880\n"
     ]
    }
   ],
   "source": [
    "cal_fact(9)"
   ]
  },
  {
   "cell_type": "code",
   "execution_count": 106,
   "id": "93a22e6b",
   "metadata": {},
   "outputs": [],
   "source": [
    "#convert USD TO NRS\n",
    "\n",
    "def converter(usd):\n",
    "    nrs=usd*134\n",
    "    print(usd,\"USD= \", nrs, \"NRS\")"
   ]
  },
  {
   "cell_type": "code",
   "execution_count": 107,
   "id": "4d6dec4e",
   "metadata": {},
   "outputs": [
    {
     "name": "stdout",
     "output_type": "stream",
     "text": [
      "45 USD=  6030 NRS\n"
     ]
    }
   ],
   "source": [
    "converter(45)"
   ]
  },
  {
   "cell_type": "code",
   "execution_count": 108,
   "id": "eaedb4f7",
   "metadata": {},
   "outputs": [
    {
     "name": "stdout",
     "output_type": "stream",
     "text": [
      "1 USD=  134 NRS\n"
     ]
    }
   ],
   "source": [
    "converter(1)"
   ]
  },
  {
   "cell_type": "code",
   "execution_count": 109,
   "id": "4f14b33f",
   "metadata": {},
   "outputs": [],
   "source": [
    "#write a function for n to calculate show string \"Odd\" and \"Even\""
   ]
  },
  {
   "cell_type": "code",
   "execution_count": 117,
   "id": "259e9b06",
   "metadata": {},
   "outputs": [],
   "source": [
    "\n",
    "def check_val(n):\n",
    "    i=0\n",
    "    if i%2==0:\n",
    "        print(f\"This {n} is even number\")\n",
    "        i>=0\n",
    "    else:\n",
    "        print(f\"This {n} is odd number\")\n",
    "        i>+1\n",
    "    "
   ]
  },
  {
   "cell_type": "code",
   "execution_count": 118,
   "id": "c0887acf",
   "metadata": {},
   "outputs": [
    {
     "name": "stdout",
     "output_type": "stream",
     "text": [
      "This 6 is even number\n"
     ]
    }
   ],
   "source": [
    "check_val(6)"
   ]
  },
  {
   "cell_type": "code",
   "execution_count": 121,
   "id": "f6b261b5",
   "metadata": {},
   "outputs": [],
   "source": [
    "def odd_or_even(n):\n",
    "    if i%2==0:\n",
    "        return \"Even\"\n",
    "    else:\n",
    "        return \"Odd\"\n"
   ]
  },
  {
   "cell_type": "code",
   "execution_count": 122,
   "id": "4f24744c",
   "metadata": {},
   "outputs": [
    {
     "name": "stdout",
     "output_type": "stream",
     "text": [
      "Odd\n"
     ]
    }
   ],
   "source": [
    "print(odd_or_even(6))"
   ]
  },
  {
   "cell_type": "code",
   "execution_count": 124,
   "id": "58c05d6c",
   "metadata": {},
   "outputs": [],
   "source": [
    "#create a function is_even(num) that returns True if the given number is even, otherwise False\n",
    "\n",
    "def is_even(num):\n",
    "    if i%2==0:\n",
    "        return \"True\"\n",
    "    else:\n",
    "        return \"False\""
   ]
  },
  {
   "cell_type": "code",
   "execution_count": 125,
   "id": "c4f01408",
   "metadata": {},
   "outputs": [
    {
     "data": {
      "text/plain": [
       "'False'"
      ]
     },
     "execution_count": 125,
     "metadata": {},
     "output_type": "execute_result"
    }
   ],
   "source": [
    "is_even(9)"
   ]
  },
  {
   "cell_type": "code",
   "execution_count": 4,
   "id": "74813c82",
   "metadata": {},
   "outputs": [],
   "source": [
    "#Write a function reverse_string(sd that takes a string and returns the reversed version of the string.\n",
    "\n",
    "#for loop \n",
    "\n",
    "def reverse_string(s):\n",
    "    reversed_s=\"\"\n",
    "    for char in s:\n",
    "        reversed_s=char+reversed_s\n",
    "    return reversed_s"
   ]
  },
  {
   "cell_type": "code",
   "execution_count": 5,
   "id": "afacceb3",
   "metadata": {},
   "outputs": [
    {
     "data": {
      "text/plain": [
       "'apkahl'"
      ]
     },
     "execution_count": 5,
     "metadata": {},
     "output_type": "execute_result"
    }
   ],
   "source": [
    "reverse_string(\"lhakpa\")   "
   ]
  },
  {
   "cell_type": "code",
   "execution_count": 6,
   "id": "850cbde6",
   "metadata": {},
   "outputs": [],
   "source": [
    "#while loop\n",
    "\n",
    "def reverse_string(s):\n",
    "    reversed_s=\"\"\n",
    "    i=len(s)-1\n",
    "    while i>=0:\n",
    "        reversed_s+=s[i]\n",
    "        i-=1\n",
    "    return reversed_s    "
   ]
  },
  {
   "cell_type": "code",
   "execution_count": 7,
   "id": "e7e08be0",
   "metadata": {},
   "outputs": [
    {
     "data": {
      "text/plain": [
       "'arahkoP'"
      ]
     },
     "execution_count": 7,
     "metadata": {},
     "output_type": "execute_result"
    }
   ],
   "source": [
    "reverse_string(\"Pokhara\")"
   ]
  },
  {
   "cell_type": "code",
   "execution_count": 5,
   "id": "fad05edc",
   "metadata": {},
   "outputs": [],
   "source": [
    "def reversed_string(s):\n",
    "    return s[::-1]   # (:) Whole string\n",
    "    "
   ]
  },
  {
   "cell_type": "code",
   "execution_count": 6,
   "id": "52974365",
   "metadata": {},
   "outputs": [
    {
     "data": {
      "text/plain": [
       "'olleh'"
      ]
     },
     "execution_count": 6,
     "metadata": {},
     "output_type": "execute_result"
    }
   ],
   "source": [
    "reversed_string(\"hello\")"
   ]
  },
  {
   "cell_type": "code",
   "execution_count": 10,
   "id": "6f281581",
   "metadata": {},
   "outputs": [
    {
     "data": {
      "text/plain": [
       "'udnamhtaK'"
      ]
     },
     "execution_count": 10,
     "metadata": {},
     "output_type": "execute_result"
    }
   ],
   "source": [
    "reversed_string(\"Kathmandu\")"
   ]
  },
  {
   "cell_type": "code",
   "execution_count": 30,
   "id": "fdd23d0a",
   "metadata": {},
   "outputs": [],
   "source": [
    "#retun largest number\n",
    "\n",
    "def find_max(lst):\n",
    "    if not lst:\n",
    "        return None\n",
    "    largest=lst[0]\n",
    "    for num in lst:\n",
    "        if num>largest:\n",
    "            largest=num\n",
    "            return largest"
   ]
  },
  {
   "cell_type": "code",
   "execution_count": 32,
   "id": "d1aedbd7-fe31-4e3b-9b89-4bfc975feec8",
   "metadata": {},
   "outputs": [],
   "source": [
    "lst=(12,17,29,48,20)"
   ]
  },
  {
   "cell_type": "code",
   "execution_count": 34,
   "id": "b2b3947f-57cd-4275-9857-15a69edc8dda",
   "metadata": {},
   "outputs": [
    {
     "data": {
      "text/plain": [
       "17"
      ]
     },
     "execution_count": 34,
     "metadata": {},
     "output_type": "execute_result"
    }
   ],
   "source": [
    "find_max(lst)"
   ]
  },
  {
   "cell_type": "code",
   "execution_count": null,
   "id": "d769a883-08b9-4b7e-a886-bd07693598d4",
   "metadata": {},
   "outputs": [],
   "source": []
  },
  {
   "cell_type": "code",
   "execution_count": null,
   "id": "5b6c5664-33d3-4ef0-a4e8-c0462359e6b1",
   "metadata": {},
   "outputs": [],
   "source": []
  }
 ],
 "metadata": {
  "kernelspec": {
   "display_name": "Python 3 (ipykernel)",
   "language": "python",
   "name": "python3"
  },
  "language_info": {
   "codemirror_mode": {
    "name": "ipython",
    "version": 3
   },
   "file_extension": ".py",
   "mimetype": "text/x-python",
   "name": "python",
   "nbconvert_exporter": "python",
   "pygments_lexer": "ipython3",
   "version": "3.12.4"
  }
 },
 "nbformat": 4,
 "nbformat_minor": 5
}
